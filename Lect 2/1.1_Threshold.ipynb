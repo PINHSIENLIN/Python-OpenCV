{
 "cells": [
  {
   "cell_type": "markdown",
   "metadata": {},
   "source": [
    "# import library"
   ]
  },
  {
   "cell_type": "code",
   "execution_count": null,
   "metadata": {},
   "outputs": [],
   "source": [
    "import numpy as np\n",
    "import cv2\n",
    "#%matplotlib notebook\n",
    "from matplotlib import pyplot as plt\n",
    "print(cv2.__version__)"
   ]
  },
  {
   "cell_type": "markdown",
   "metadata": {},
   "source": [
    "# 基礎設定影像門檻值 (二值化影像 : Binary Image)"
   ]
  },
  {
   "cell_type": "code",
   "execution_count": null,
   "metadata": {},
   "outputs": [],
   "source": [
    "img = cv2.imread('data/gradient.png', cv2.IMREAD_COLOR)\n",
    "gray = cv2.cvtColor(img, cv2.COLOR_BGR2GRAY)\n",
    "# Convert to True or False manually\n",
    "binary = (gray > 127)\n",
    "plt.imshow(gray, cmap = 'gray')\n",
    "plt.show()\n",
    "plt.imshow(binary, cmap = 'gray')\n",
    "plt.show()"
   ]
  },
  {
   "cell_type": "markdown",
   "metadata": {},
   "source": [
    "# 影像二值化函式"
   ]
  },
  {
   "cell_type": "code",
   "execution_count": null,
   "metadata": {},
   "outputs": [],
   "source": [
    "img = cv2.imread('data/gradient.png', cv2.IMREAD_COLOR)\n",
    "gray = cv2.cvtColor(img, cv2.COLOR_BGR2GRAY)\n",
    "Threshold = 127\n",
    "maxval = 255\n",
    "# thresh1 is two-dimensional array\n",
    "ret, thresh1 = cv2.threshold(gray, Threshold, maxval, cv2.THRESH_BINARY)\n",
    "ret, thresh2 = cv2.threshold(gray, Threshold, maxval, cv2.THRESH_BINARY_INV)\n",
    "ret, thresh3 = cv2.threshold(gray, Threshold, maxval, cv2.THRESH_TRUNC)\n",
    "ret, thresh4 = cv2.threshold(gray, Threshold, maxval, cv2.THRESH_TOZERO)\n",
    "ret, thresh5 = cv2.threshold(gray, Threshold, maxval, cv2.THRESH_TOZERO_INV)\n",
    "\n",
    "print(\"return threshold :\",ret)\n",
    "titles = ['Original Image','BINARY','BINARY_INV','TRUNC','TOZERO','TOZERO_INV']\n",
    "images = [img, thresh1, thresh2, thresh3, thresh4, thresh5]\n",
    "for i in range(6):\n",
    "    #cv2.imwrite('Binary/'+titles[i]+'.png',images[i])\n",
    "    plt.subplot(2,3,i+1)\n",
    "    plt.imshow(images[i],'gray')\n",
    "    plt.title(titles[i])\n",
    "    plt.xticks([]),plt.yticks([])\n",
    "plt.show()\n"
   ]
  },
  {
   "cell_type": "markdown",
   "metadata": {},
   "source": [
    "# 利用Track Bar 調整門檻值，觀察影像的變化\n",
    "![](data/threshold.PNG)"
   ]
  },
  {
   "cell_type": "code",
   "execution_count": null,
   "metadata": {},
   "outputs": [],
   "source": [
    "import numpy as np\n",
    "import cv2\n",
    "#%matplotlib notebook\n",
    "from matplotlib import pyplot as plt\n",
    "#建立回调函数\n",
    "def changeThreshold(x):\n",
    "    Threshold = cv2.getTrackbarPos('Weight','image')\n",
    "    ret, thresh1 = cv2.threshold(gray, Threshold, maxval, cv2.THRESH_BINARY)\n",
    "    #ret,thresh2=cv2.threshold(gray,Threshold,maxval,cv2.THRESH_BINARY_INV)\n",
    "    #ret,thresh3=cv2.threshold(gray,Threshold,maxval,cv2.THRESH_TRUNC)\n",
    "    #ret,thresh4=cv2.threshold(gray,Threshold,maxval,cv2.THRESH_TOZERO)\n",
    "    #ret,thresh5=cv2.threshold(gray,Threshold,maxval,cv2.THRESH_TOZERO_INV)\n",
    "    # Adjust size of array\n",
    "    img2[:y1, x1:x1*2] = thresh1[:y1, :x1]\n",
    "    cv2.imshow('image',img2)\n",
    "#建立一影像\n",
    "img = cv2.imread('data/gradient.png', cv2.IMREAD_COLOR)\n",
    "gray = cv2.cvtColor(img, cv2.COLOR_BGR2GRAY)\n",
    "\n",
    "y1 = gray.shape[0]\n",
    "x1 = gray.shape[1]\n",
    "img2 = np.zeros([y1, x1*2], np.uint8)\n",
    "img2[:y1, :x1] = gray[:y1, :x1]\n",
    "print(img2.shape)\n",
    "\n",
    "maxval = 255\n",
    "cv2.namedWindow('image', cv2.WINDOW_NORMAL)\n",
    "#cv2.imshow('image',img2)\n",
    "cv2.createTrackbar('Weight', 'image', 0, 255, changeThreshold)\n",
    "while(True):\n",
    "    if cv2.waitKey(1) & 0xFF == 27:\n",
    "        break\n",
    "cv2.destroyAllWindows()"
   ]
  },
  {
   "cell_type": "markdown",
   "metadata": {},
   "source": [
    "# 自動閾值法 (Otsu’s二值化)"
   ]
  },
  {
   "cell_type": "code",
   "execution_count": null,
   "metadata": {},
   "outputs": [],
   "source": [
    "img = cv2.imread('data/sudoku.png', cv2.IMREAD_COLOR)\n",
    "gray = cv2.cvtColor(img, cv2.COLOR_BGR2GRAY)\n",
    "plt.hist(gray.ravel(),256)\n",
    "plt.show()\n",
    "\n",
    "Threshold = 255\n",
    "maxval = 255\n",
    "ret,thresh1 = cv2.threshold(gray, Threshold, maxval, cv2.THRESH_BINARY + cv2.THRESH_OTSU)\n",
    "ret,thresh2 = cv2.threshold(gray, Threshold, maxval, cv2.THRESH_BINARY_INV + cv2.THRESH_OTSU)\n",
    "ret,thresh3 = cv2.threshold(gray, Threshold, maxval, cv2.THRESH_TRUNC + cv2.THRESH_OTSU)\n",
    "ret,thresh4 = cv2.threshold(gray, Threshold, maxval, cv2.THRESH_TOZERO + cv2.THRESH_OTSU)\n",
    "ret,thresh5 = cv2.threshold(gray, Threshold, maxval, cv2.THRESH_TOZERO_INV + cv2.THRESH_OTSU)\n",
    "print(\"return threshold :\",ret)\n",
    "print(\"-\"*80)\n",
    "titles = ['Original Image','BINARY','BINARY_INV','TRUNC','TOZERO','TOZERO_INV']\n",
    "images = [img, thresh1, thresh2, thresh3, thresh4, thresh5]\n",
    "for i in range(6):\n",
    "    #cv2.imwrite('data/'+titles[i]+'.png',images[i])\n",
    "    print(titles[i])\n",
    "    plt.imshow(images[i],'gray')\n",
    "    plt.show()\n",
    "plt.show()\n",
    "####### plt.show 即使最大值不是255，顯示的圖還是會用0~255顯示"
   ]
  },
  {
   "cell_type": "markdown",
   "metadata": {},
   "source": [
    "# 自適應二值化\n",
    "自適應二值化與單一值二值化不同，自適應二值化考慮了影像中不同區域的亮度差異，從而能夠處理光線變化和背景不均勻的情況。\n",
    "#### 自適應二值化的主要原理以及流程如下：\n",
    "1. 求出灰階影像f(x,y)的積分圖。\n",
    "2. 求出核函數w(x,y)內元素的總和，並除以核函數的像素數量3x3=9，得到平均值1.1。\n",
    "3. 計算出閾值Theshold，其中C是自訂的常數。假設C為0，Theshold等於1.1。\n",
    "4. 對f(x,y)的錨(中心點)，依照上一步求出的閾值進行二值化。如果f(3,4)值超出1.1，輸出為255，反之輸出為0。\n",
    "\n",
    "   \n",
    "![](data/Adapt_md.png)"
   ]
  },
  {
   "cell_type": "markdown",
   "metadata": {},
   "source": [
    "# 自適應二值化的函式 (Adaptive Thresholding)\n",
    "\n",
    "## `cv2.adaptiveThreshold()`\n",
    "它根據影像局部區域的特徵，自適應地設置二值化的門檻值。以下是該函式的主要參數及其說明：\n",
    "\n",
    "- **src**: 輸入影像，必須是單通道的灰階影像\n",
    "- **maxValue**: 應用於二值化後的最大值。門檻值操作後，如果像素值超過門檻值，這個參數會設定新的像素值\n",
    "- **adaptiveMethod**: 自適應方法，決定如何計算局部門檻值。有兩種選擇：\n",
    "  - `cv2.ADAPTIVE_THRESH_MEAN_C`: 基於局部區塊中像素值的均值計算門檻值。\n",
    "  - `cv2.ADAPTIVE_THRESH_GAUSSIAN_C`: 基於局部區塊中像素值的加權平均值（使用高斯加權）計算門檻值\n",
    "- **thresholdType**: 二值化的類型。有兩種選擇：\n",
    "  - `cv2.THRESH_BINARY`: 如果像素值`高於`門檻值，則設定為 maxValue；否則為 0\n",
    "  - `cv2.THRESH_BINARY_INV`: 如果像素值`低於`門檻值，則設定為 maxValue；否則為 0\n",
    "- **blockSize**: 決定計算門檻值的局部區塊的大小，必須是奇數。一般來說，較小的區塊可以檢測更多局部細節，而較大的區塊會讓影像更平滑\n",
    "- **C**: 從局部區塊的均值或加權平均值中減去的常數，用於調整門檻值，使其更高或更低\n",
    "\n",
    "範例：如果要對一個影像進行自適應二值化，採用GAUSSIAN加權的方法，<br>\n",
    "最大值設定為 255，區塊大小為 11，並且閾值減去常數 2，你可以這樣使用：\n",
    "```python\n",
    "import cv2\n",
    "\n",
    "# 假設 'image' 是一個灰度影像\n",
    "binary_image = cv2.adaptiveThreshold(\n",
    "    src=image,\n",
    "    maxValue=255,\n",
    "    adaptiveMethod=cv2.ADAPTIVE_THRESH_GAUSSIAN_C,\n",
    "    thresholdType=cv2.THRESH_BINARY,\n",
    "    blockSize=11,\n",
    "    C=2\n",
    ")\n",
    "```\n",
    ">  透過調整 `blockSize` 和 `C`，可以改變二值化的結果，從而找到最適合的設定。"
   ]
  },
  {
   "cell_type": "code",
   "execution_count": null,
   "metadata": {},
   "outputs": [],
   "source": [
    "img = cv2.imread('data/sudoku.png', cv2.IMREAD_COLOR)\n",
    "gray = cv2.cvtColor(img, cv2.COLOR_BGR2GRAY)\n",
    "maxval = 255\n",
    "blockSize = 11\n",
    "Constant = 2\n",
    "ret, th1 = cv2.threshold(gray, 97, maxval, cv2.THRESH_BINARY)\n",
    "\n",
    "th2 = cv2.adaptiveThreshold(gray, maxval, cv2.ADAPTIVE_THRESH_MEAN_C, cv2.THRESH_BINARY,blockSize,Constant) \n",
    "\n",
    "th3 = cv2.adaptiveThreshold(gray, maxval, cv2.ADAPTIVE_THRESH_GAUSSIAN_C, cv2.THRESH_BINARY,blockSize,Constant) \n",
    "images = [gray, th1, th2,th3]\n",
    "for i in range(4):\n",
    "    #cv2.imwrite(str(i)+\"test.png\",images[i])\n",
    "    plt.imshow(images[i],'gray')\n",
    "    plt.show()"
   ]
  },
  {
   "cell_type": "markdown",
   "metadata": {},
   "source": [
    "## 使用兩個滑動條，觀察THRESH_MEAN vs THRESH_GAUSSIAN\n",
    "\n",
    "在這個例子中，我們使用兩個滑動條來調整二值化分割法的參數：\n",
    "1. Type：選擇二值化方法\n",
    "   > cv2.ADAPTIVE_THRESH_GAUSSIAN_C 與 cv2.ADAPTIVE_THRESH_MEAN_C\n",
    "3. Kernel size：設定核的大小\n",
    "   > **注意**：核的大小不能小於3，計算方式為 `kernel * 2 + 1`\n",
    "\n",
    "![示例圖片](data/sudoku_md.png)"
   ]
  },
  {
   "cell_type": "code",
   "execution_count": null,
   "metadata": {},
   "outputs": [],
   "source": [
    "import numpy as np\n",
    "import cv2\n",
    "#%matplotlib notebook\n",
    "from matplotlib import pyplot as plt\n",
    "#建立回调函数\n",
    "def changeThreshold(x):\n",
    "    mode = cv2.getTrackbarPos('Mode:','image')\n",
    "    kernel = cv2.getTrackbarPos('Kernel:','image')\n",
    "    #判斷Kernel條件：kernel size小於3都等於3(設定:實際kernel = kernel*2+1)\n",
    "    if kernel <= 1: \n",
    "        kernel = 3\n",
    "    else:\n",
    "         kernel = kernel * 2+1\n",
    "    \n",
    "    #判斷方法條件：\n",
    "    #當mode = 1， cv2.ADAPTIVE_THRESH_GAUSSIAN_C\n",
    "    #當mode = 0，cv2.ADAPTIVE_THRESH_MEAN_C\n",
    "    if mode == 1:\n",
    "        print(\"THRESH_GAUSSIA with K=\",end=\" \")\n",
    "        thresh1 = cv2.adaptiveThreshold(gray, maxval,cv2.ADAPTIVE_THRESH_GAUSSIAN_C,cv2.THRESH_BINARY,kernel*2+1,2)\n",
    "    else:\n",
    "        print(\"THRESH_MEAN with K=\",end=\" \")\n",
    "        thresh1 = cv2.adaptiveThreshold(gray, maxval,cv2.ADAPTIVE_THRESH_MEAN_C,cv2.THRESH_BINARY,kernel*2+1,2)\n",
    "    print(kernel)\n",
    "    img2[:y1, x1:x1*2] = thresh1[:y1, :x1]\n",
    "    cv2.imshow('image',img2)\n",
    "#建立一影像\n",
    "img = cv2.imread('data/sudoku.png', cv2.IMREAD_COLOR)\n",
    "gray = cv2.cvtColor(img, cv2.COLOR_BGR2GRAY)\n",
    "\n",
    "y1 = gray.shape[0]\n",
    "x1 = gray.shape[1]\n",
    "img2 = np.zeros([y1, x1*2], np.uint8)\n",
    "img2[:y1, :x1] = gray[:y1, :x1]\n",
    "print(img2.shape)\n",
    "\n",
    "maxval = 255\n",
    "cv2.namedWindow('image',cv2.WINDOW_NORMAL)\n",
    "#cv2.imshow('image',img2)\n",
    "cv2.createTrackbar('Mode:','image',0,1,changeThreshold)\n",
    "cv2.createTrackbar('Kernel:','image',1,20,changeThreshold)\n",
    "while(True):\n",
    "    if cv2.waitKey(1) & 0xFF == 27:\n",
    "        break\n",
    "cv2.destroyAllWindows()"
   ]
  },
  {
   "cell_type": "markdown",
   "metadata": {},
   "source": [
    "# 自適應二值化的應用\n",
    "\n",
    "#### 文檔影像二值化\n",
    "\n",
    "> 廣泛應用於文件影像處理，能將掃描或拍照的文件轉換為二進位形式，這對文字擷取和識別至關重要。\n",
    "\n",
    "#### 不同照明條件下的物體偵測\n",
    "\n",
    "> 在不同光照條件下的影像處理中表現出色。它可以根據局部區域的光照變化進行調整，因此在具有挑戰性的環境中進行穩健的物體偵測。\n",
    "\n",
    "#### 醫學影像分析\n",
    "\n",
    "> 在醫學影像中，自適應閾值能根據強度和對比度的變化幫助分割感興趣的區域，例如腫瘤或異常部位。\n",
    "\n",
    "#### 機器人與電腦視覺\n",
    "\n",
    "> 在機器人和電腦視覺應用中對於障礙物偵測和導航等任務非常重要，特別是在動態環境中。\n",
    "\n",
    "#### 臉部辨識和生物辨識\n",
    "\n",
    "> 臉部辨識系統通常使用自適應閾值處理來應對光照和臉部表情的變化，從而提高特徵提取的準確性。"
   ]
  }
 ],
 "metadata": {
  "kernelspec": {
   "display_name": "Python 3 (ipykernel)",
   "language": "python",
   "name": "python3"
  },
  "language_info": {
   "codemirror_mode": {
    "name": "ipython",
    "version": 3
   },
   "file_extension": ".py",
   "mimetype": "text/x-python",
   "name": "python",
   "nbconvert_exporter": "python",
   "pygments_lexer": "ipython3",
   "version": "3.12.2"
  }
 },
 "nbformat": 4,
 "nbformat_minor": 4
}
