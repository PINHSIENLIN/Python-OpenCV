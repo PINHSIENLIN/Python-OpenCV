{
 "cells": [
  {
   "cell_type": "markdown",
   "id": "f6d6c408-0309-4e3e-96f3-527f82d81b03",
   "metadata": {},
   "source": [
    "# 形態學概述\n",
    "\n",
    "```\n",
    "形態學是一個在影像處理和計算機視覺中廣泛使用的技術，主要涉及在二值化影像或灰階影像中處理形狀和結構。\n",
    "它使用形態學操作來改變影像的形狀、大小和結構，用於多種應用，包括邊緣檢測、噪點消除、特徵提取等。\n",
    "```\n",
    "## 基本操作\n",
    "\n",
    "形態學的基本操作包括以下幾個：\n",
    "\n",
    "- **膨脹 (Dilation)**：這個操作與侵蝕相反，會使影像中的亮點變大。通常用來增加物體的大小，或者填補物體內的空隙。\n",
    "- **侵蝕 (Erosion)**：這個操作會將影像中的亮點變小，主要用於去除小噪點。通常用來減小物體的大小，或者消除物體間的細小連接。\n",
    "- **開運算 (Opening)**：這個操作是先侵蝕後膨脹，主要用於去除小的噪點和瑕疵。\n",
    "- **閉運算 (Closing)**：這個操作是先膨脹後侵蝕，主要用於填補影像中的小孔洞和裂縫。\n",
    "\n",
    "## 結構元素\n",
    "\n",
    "形態學操作的核心在於結構元素。結構元素是一個定義好的形狀（例如矩形、圓形或十字形），<br>\n",
    "用來執行侵蝕、膨脹等操作。選擇合適的結構元素對操作的效果至關重要。\n",
    "\n",
    "## 形態學應用\n",
    "\n",
    "形態學在許多影像處理應用中發揮了關鍵作用，包括：\n",
    "\n",
    "- **邊緣檢測**：通過侵蝕和膨脹來強調影像中的邊緣。\n",
    "- **物體分割**：使用開運算和閉運算來分割影像中的不同部分。\n",
    "- **去噪**：使用開運算來去除小噪點，使用閉運算來填補小孔洞。\n",
    "- **特徵提取**：利用形態學操作來提取影像中的特徵。\n",
    "\n",
    "## 注意事項\n",
    "\n",
    "形態學操作的效果受到結構元素的大小和形狀的影響。<br>\n",
    "較大的結構元素可以處理較大的物體，而較小的結構元素更適合細節處理。<br>\n",
    "因此，在使用形態學時，選擇合適的結構元素是關鍵。"
   ]
  },
  {
   "cell_type": "markdown",
   "id": "0b57055a-7813-42b3-adb1-f53e233ed328",
   "metadata": {},
   "source": [
    "## 膨脹"
   ]
  },
  {
   "cell_type": "code",
   "execution_count": null,
   "id": "4f07852f-3816-40f0-b48f-a4f9cc6960bc",
   "metadata": {},
   "outputs": [],
   "source": [
    "import cv2\n",
    "import numpy as np\n",
    "img = np.zeros((5,5), np.uint8)\n",
    "img[2:3,1:4] = 1\n",
    "kernel = np.ones((3,1), np.uint8)\n",
    "# Kernel of Dilation\n",
    "dilation = cv2.dilate(img, kernel)\n",
    "print(\"img=\\n\", img)\n",
    "print(\"kernel=\\n\", kernel)\n",
    "print(\"dilation\\n\", dilation)"
   ]
  },
  {
   "cell_type": "markdown",
   "id": "414cb51d-ec1a-4bb2-a77c-97ef5c3a07ab",
   "metadata": {},
   "source": [
    "## 結構圖元素"
   ]
  },
  {
   "cell_type": "code",
   "execution_count": null,
   "id": "220cf1ff-5e46-4e55-9449-53592c52d097",
   "metadata": {},
   "outputs": [],
   "source": [
    "element = cv2.getStructuringElement(cv2.MORPH_CROSS,(5,5))\n",
    "print(\"MORPH_CROSS\\n\", element)\n",
    "element = cv2.getStructuringElement(cv2.MORPH_RECT,(5,5))\n",
    "print(\"MORPH_RECT\\n\", element)\n",
    "element = cv2.getStructuringElement(cv2.MORPH_ELLIPSE,(5,5))\n",
    "print(\"MORPH_ELLIPSE\\n\", element)\n",
    "#手動設計\n",
    "kernel = np.uint8([\n",
    "[0, 0, 1, 0, 0],\n",
    "[0, 1, 1, 1, 0],\n",
    "[1, 1, 1, 1, 1],\n",
    "[0, 1, 1, 1, 0],\n",
    "[0, 0, 1, 0, 0]\n",
    "])"
   ]
  },
  {
   "cell_type": "markdown",
   "id": "ee387c9c-5588-4f91-b807-5f78ad3ea0a9",
   "metadata": {},
   "source": [
    "## 侵蝕"
   ]
  },
  {
   "cell_type": "code",
   "execution_count": null,
   "id": "99f261b0-9c3c-4df2-be42-7c2912a60f4e",
   "metadata": {},
   "outputs": [],
   "source": [
    "import cv2\n",
    "import numpy as np\n",
    "img = np.zeros((5,5), np.uint8)\n",
    "img[1:4,1:4] = 1\n",
    "# Kernel of Erosion\n",
    "kernel = np.ones((3,1), np.uint8)\n",
    "erosion = cv2.erode(img, kernel)\n",
    "print(\"img=\\n\", img)\n",
    "print(\"kernel=\\n\", kernel)\n",
    "print(\"erosion=\\n\", erosion)"
   ]
  },
  {
   "cell_type": "code",
   "execution_count": null,
   "id": "f97e4120-00a3-4fc3-88eb-2a1573ef4d1b",
   "metadata": {},
   "outputs": [],
   "source": [
    "from matplotlib import pyplot as plt\n",
    "img = cv2.imread('data/erosion.png')\n",
    "img = cv2.resize(img, None, fx = 0.2, fy = 0.2, \n",
    "                 interpolation = cv2.INTER_CUBIC)\n",
    "plt.axis('off')\n",
    "plt.imshow(img)\n",
    "plt.show()\n",
    "\n",
    "element = cv2.getStructuringElement(cv2.MORPH_CROSS,(3,3))\n",
    "plt.axis('off')\n",
    "plt.imshow(element)\n",
    "plt.show()\n",
    "\n",
    "dilated = cv2.erode(img,element)\n",
    "plt.axis('off')\n",
    "plt.imshow(dilated)\n",
    "plt.show()\n"
   ]
  },
  {
   "attachments": {},
   "cell_type": "markdown",
   "id": "86efc9cd-fa31-4bd9-9a2d-f474076570f7",
   "metadata": {},
   "source": [
    "# 開運算與閉運算\n",
    "```\n",
    "在影像處理中，開運算和閉運算是常用的形態學操作，主要用於處理影像中的噪點、瑕疵、空隙等問題。\n",
    "這兩種操作都涉及到侵蝕和膨脹這兩個基本過程，但順序不同。\n",
    "```\n",
    "## 開運算\n",
    "開運算的順序是**先侵蝕，後膨脹**<br>\n",
    "這種操作有助於清除影像中的小點、毛刺和瑕疵噪點，讓特徵更加清晰<br>\n",
    "特別適用於去除圖像中不必要的細小結構，而不會改變主要特徵的形狀<br>\n",
    "\n",
    "### 主要應用\n",
    "- 清除影像中的小噪點\n",
    "- 去除毛刺和不規則部分\n",
    "- 提高主要特徵的清晰度\n",
    "\n",
    "## 閉運算\n",
    "閉運算的順序是**先膨脹，後侵蝕**<br>\n",
    "它通常用於填補小的空隙、彌合影像中的裂縫或凹角，幫助維持或恢復原始形狀<br>\n",
    "\n",
    "### 主要應用\n",
    "- 填補影像中的小裂縫\n",
    "- 弭合凹角\n",
    "- 去除影像中的小孔洞\n",
    "\n",
    "### 例子\n",
    "- 較小的結構元素適合細微的噪點和瑕疵\n",
    "- 較大的結構元素適合處理更大的空隙和裂縫\n",
    "- 不同的形狀可以用來處理特定的特徵，如十字形、圓形或矩形\n",
    "\n",
    "## 進一步的操作\n",
    "在使用開運算和閉運算處理影像後，後續的操作可以和原始影像進行運算，產生多樣化的結果。<br>\n",
    "處理過的影像和原影像以強調特定區域的特徵，或者將不同操作的結果結合起來，創建更為複雜的效果<br>\n",
    "例如：邊緣、區域填充、凸形輪廓、細線化、粗線化、找骨架、剪枝、形態濾波、形態梯度、高帽轉換、顆粒量測、紋理分割\n"
   ]
  },
  {
   "cell_type": "code",
   "execution_count": null,
   "id": "dfa622ac-2d77-469e-bc56-41a16ecc5d4e",
   "metadata": {},
   "outputs": [],
   "source": [
    "from matplotlib import pyplot as plt\n",
    "#%matplotlib notebook\n",
    "img = cv2.imread('data/OC.png',0)\n",
    "plt.axis('off')\n",
    "plt.imshow(img, \"gray\")\n",
    "plt.show()\n",
    "\n",
    "# 設置卷積核\n",
    "ret,thresh1 = cv2.threshold(img,34,255,cv2.THRESH_BINARY)\n",
    "plt.axis('off')\n",
    "plt.imshow(thresh1, \"gray\")\n",
    "plt.show()\n",
    "\n",
    "kernel = np.ones((10, 10), np.uint8) \n",
    "element = cv2.getStructuringElement(cv2.MORPH_CROSS,(13,13))\n",
    "opening = cv2.morphologyEx(thresh1, cv2.MORPH_OPEN, element) \n",
    "plt.axis('off')\n",
    "plt.imshow(opening, \"gray\")\n",
    "plt.show()\n",
    "\n",
    "closing = cv2.morphologyEx(thresh1, cv2.MORPH_CLOSE, element) \n",
    "plt.axis('off')\n",
    "plt.imshow(closing, \"gray\")\n",
    "plt.show()"
   ]
  },
  {
   "cell_type": "markdown",
   "id": "e43f6604-a9e7-4be5-ade9-97943720bd1f",
   "metadata": {},
   "source": [
    "## 形態學檢測邊緣"
   ]
  },
  {
   "cell_type": "code",
   "execution_count": null,
   "id": "4068cdfb-2d3e-42d4-8ac4-65b9206ad8dd",
   "metadata": {},
   "outputs": [],
   "source": [
    "import cv2\n",
    "import numpy as np\n",
    "import matplotlib.pyplot as plt\n",
    " \n",
    "img = cv2.imread('data/image3.png')\n",
    "element = cv2.getStructuringElement(cv2.MORPH_RECT, (3, 3))\n",
    "\n",
    "dilate = cv2.dilate(img, element)\n",
    "erode = cv2.erode(img, element)\n",
    "\n",
    "# 將兩幅圖像相減獲得邊，第一個參數是膨脹後的圖像，第二個參數是腐蝕後的圖像\n",
    "# cv2.absdiff：(膨脹後的圖像，腐蝕後的圖像)\n",
    "result = cv2.absdiff(dilate, erode)#絕對值的差異\n",
    "\n",
    "# 上面得到的結果是灰度圖，將其二值化以便更清楚的觀察結果\n",
    "retval, result = cv2.threshold(result, 40, 255, cv2.THRESH_BINARY)\n",
    "# 反色，即對二值圖每個像素取反\n",
    "result = cv2.bitwise_not(result)\n",
    "\n",
    "plt.rcParams['figure.figsize'] = [200, 100] \n",
    "plt.rcParams['font.size'] = 150\n",
    "\n",
    "img2 = cv2.cvtColor(img, cv2.COLOR_BGR2RGB)\n",
    "plt.subplot(1,2,1)\n",
    "plt.imshow(img2)\n",
    "plt.xticks([]), plt.yticks([])\n",
    "plt.title('origin image BGR')\n",
    "\n",
    "result2 = cv2.cvtColor(result  , cv2.COLOR_BGR2RGB)\n",
    "plt.subplot(1,2,2)\n",
    "plt.imshow(result2,'gray')\n",
    "plt.xticks([]), plt.yticks([])\n",
    "plt.title('edge')"
   ]
  },
  {
   "cell_type": "markdown",
   "id": "c516446b-25ae-48e3-bab7-4e99f3983ef0",
   "metadata": {},
   "source": [
    "## 形態學梯度運算\n",
    "形態學梯度運算是用影像的膨脹影像減腐蝕影像的操作，該操作可以取得原始影像中前景影像的邊緣\n",
    "語法結構如下:\n",
    "> gradient = cv2.morphologyEx(img,cv2.MORPH_GRADIENT,kernel)"
   ]
  },
  {
   "cell_type": "code",
   "execution_count": null,
   "id": "afc61b65-03f0-4142-a4ae-ac00f7721165",
   "metadata": {},
   "outputs": [],
   "source": [
    "import cv2\n",
    "import numpy as np\n",
    "original=cv2.imread(\"gradient.bmp\",cv2.IMREAD_UNCHANGED)\n",
    "kernel=np.ones((5,5),np.uint8)\n",
    "gardient=cv2.morphologyEx(original,cv2.MORPH_GRADIENT,kernel)\n",
    "\n",
    "plt.rcParams['figure.figsize'] = [200, 100] \n",
    "plt.rcParams['font.size'] = 150\n",
    "\n",
    "img_original = cv2.cvtColor(original, cv2.COLOR_BGR2RGB)\n",
    "plt.subplot(1,2,1)\n",
    "plt.imshow(img_original)\n",
    "plt.xticks([]), plt.yticks([])\n",
    "plt.title('origin image BGR')\n",
    "\n",
    "img_gardien = cv2.cvtColor(gardient, cv2.COLOR_BGR2RGB)\n",
    "plt.subplot(1,2,2)\n",
    "plt.imshow(img_gardien)\n",
    "plt.xticks([]), plt.yticks([])\n",
    "plt.title('edge')"
   ]
  },
  {
   "cell_type": "markdown",
   "id": "d5f078f3-3f2f-4d06-a85a-bde1ece69c5d",
   "metadata": {},
   "source": [
    "# 頂帽（Top Hat）和黑帽（Black Hat）\n",
    "```\n",
    "頂帽和黑帽是影像形態學操作中的兩個重要概念，它們主要用來強調或消除影像中的特定特徵。\n",
    "這兩種操作都涉及形態學侵蝕和膨脹，但用途和效果不同。\n",
    "```\n",
    "## 頂帽（Top Hat）\n",
    "The top-hat filter is used to enhance bright objects of interest in a dark background\n",
    "\n",
    "頂帽是將原始影像與其閉運算結果相減，這樣可以強調影像中比周圍背景更亮的特徵。常見應用包括：\n",
    "\n",
    "- **強調小亮點**：在影像中識別和強調小亮點或亮區域。\n",
    "- **分割前景**：用於分割比周圍環境更亮的前景物體。\n",
    "- **文字識別**：在文檔影像中，頂帽有助於強調文本區域。\n",
    "\n",
    "## 黑帽（Black Hat）\n",
    "The black-hat operation is used to enhance dark objects of interest in a bright background\n",
    "\n",
    "黑帽是將原始影像與其開運算結果相減，這樣可以強調影像中比周圍背景更暗的特徵。主要用於：\n",
    "\n",
    "- **強調小暗點**：在影像中識別和強調小暗點或暗區域。\n",
    "- **填補裂縫**：在二值化圖像中用來填補因影像雜訊造成的裂縫。\n",
    "- **影像補全**：在分割影像時，黑帽可以幫助恢復被侵蝕掉的小特徵。"
   ]
  },
  {
   "cell_type": "code",
   "execution_count": 11,
   "id": "294cfacb-11cb-4147-b1f6-4115f06e9aa9",
   "metadata": {},
   "outputs": [
    {
     "name": "stderr",
     "output_type": "stream",
     "text": [
      "2024-04-30 21:54:51.581 Python[4897:280796] WARNING: Secure coding is not enabled for restorable state! Enable secure coding by implementing NSApplicationDelegate.applicationSupportsSecureRestorableState: and returning YES.\n"
     ]
    }
   ],
   "source": [
    "import cv2  \n",
    "import numpy as np  \n",
    "\n",
    "#讀取圖片\n",
    "src = cv2.imread('data/open.jpg', cv2.IMREAD_UNCHANGED)\n",
    "\n",
    "#設定卷積核\n",
    "kernel = np.ones((17,17), np.uint8)\n",
    "\n",
    "#影象頂帽運算\n",
    "result = cv2.morphologyEx(src, cv2.MORPH_TOPHAT, kernel)\n",
    "\n",
    "#顯示影象\n",
    "cv2.imshow(\"src\", src)\n",
    "cv2.imshow(\"result\", result)\n",
    "\n",
    "#等待顯示\n",
    "cv2.waitKey(0)\n",
    "cv2.destroyAllWindows()\n"
   ]
  },
  {
   "cell_type": "code",
   "execution_count": 12,
   "id": "12335b7f-6f12-4879-95f7-fc084d9779eb",
   "metadata": {},
   "outputs": [],
   "source": [
    "import cv2  \n",
    "import numpy as np  \n",
    "\n",
    "#讀取圖片\n",
    "src = cv2.imread('data/close.jpg', cv2.IMREAD_UNCHANGED)\n",
    "\n",
    "#設定卷積核\n",
    "kernel = np.ones((10,10), np.uint8)\n",
    "\n",
    "#影象黑帽運算\n",
    "result = cv2.morphologyEx(src, cv2.MORPH_BLACKHAT, kernel)\n",
    "\n",
    "#顯示影象\n",
    "cv2.imshow(\"src\", src)\n",
    "cv2.imshow(\"result\", result)\n",
    "\n",
    "#等待顯示\n",
    "cv2.waitKey(0)\n",
    "cv2.destroyAllWindows()\n"
   ]
  }
 ],
 "metadata": {
  "kernelspec": {
   "display_name": "Python 3 (ipykernel)",
   "language": "python",
   "name": "python3"
  },
  "language_info": {
   "codemirror_mode": {
    "name": "ipython",
    "version": 3
   },
   "file_extension": ".py",
   "mimetype": "text/x-python",
   "name": "python",
   "nbconvert_exporter": "python",
   "pygments_lexer": "ipython3",
   "version": "3.12.2"
  }
 },
 "nbformat": 4,
 "nbformat_minor": 5
}
