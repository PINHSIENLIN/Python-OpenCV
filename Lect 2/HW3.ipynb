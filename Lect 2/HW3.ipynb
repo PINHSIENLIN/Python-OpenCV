{
 "cells": [
  {
   "cell_type": "code",
   "execution_count": null,
   "metadata": {},
   "outputs": [],
   "source": [
    "import cv2 \n",
    "import numpy as np \n",
    "from matplotlib import pyplot as plt\n",
    "\n",
    "def changeThreshold(x):\n",
    "    lth = cv2.getTrackbarPos('low','image')\n",
    "    hth = cv2.getTrackbarPos('high','image')\n",
    "    canny = cv2.Canny(img,lth,hth)\n",
    "    cv2.imshow('image',canny)\n",
    "\n",
    "img = cv2.imread('data/exit-ramp.png',0)\n",
    "\n",
    "cv2.namedWindow('image',cv2.WINDOW_NORMAL)\n",
    "cv2.createTrackbar('low','image',0,255,changeThreshold)\n",
    "cv2.createTrackbar('high','image',0,255,changeThreshold)\n",
    "while(True):\n",
    "    if cv2.waitKey(1) & 0xFF == 27:\n",
    "        break\n",
    "cv2.destroyAllWindows()"
   ]
  },
  {
   "cell_type": "code",
   "execution_count": null,
   "metadata": {},
   "outputs": [],
   "source": [
    "img = cv2.imread('data/exit-ramp.png',0) \n",
    "canny = cv2.Canny(img,170,87)\n",
    "plt.figure(figsize = (6, 6))\n",
    "plt.imshow(canny, cmap = 'gray')\n",
    "plt.title('Canny')\n",
    "plt.axis(\"off\")\n",
    "plt.show()"
   ]
  }
 ],
 "metadata": {
  "kernelspec": {
   "display_name": "Python 3",
   "language": "python",
   "name": "python3"
  },
  "language_info": {
   "codemirror_mode": {
    "name": "ipython",
    "version": 3
   },
   "file_extension": ".py",
   "mimetype": "text/x-python",
   "name": "python",
   "nbconvert_exporter": "python",
   "pygments_lexer": "ipython3",
   "version": "3.12.2"
  }
 },
 "nbformat": 4,
 "nbformat_minor": 2
}
