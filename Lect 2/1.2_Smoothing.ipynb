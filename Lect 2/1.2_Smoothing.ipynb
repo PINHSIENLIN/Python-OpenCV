{
 "cells": [
  {
   "cell_type": "markdown",
   "metadata": {
    "colab_type": "text",
    "id": "T_4gadlqoE0g"
   },
   "source": [
    "# import library"
   ]
  },
  {
   "cell_type": "code",
   "execution_count": null,
   "metadata": {
    "colab": {},
    "colab_type": "code",
    "id": "yM7urjuCoE0h",
    "outputId": "955b79ca-ddea-4106-d62c-ba21277b7a69"
   },
   "outputs": [],
   "source": [
    "import numpy as np\n",
    "import cv2\n",
    "#%matplotlib notebook\n",
    "from matplotlib import pyplot as plt\n",
    "print(cv2.__version__)"
   ]
  },
  {
   "cell_type": "markdown",
   "metadata": {
    "colab_type": "text",
    "id": "0euLWmR_oE0p"
   },
   "source": [
    "# 影像二值化前處理"
   ]
  },
  {
   "cell_type": "code",
   "execution_count": null,
   "metadata": {
    "colab": {},
    "colab_type": "code",
    "id": "7epZllJKoE0q",
    "outputId": "3495d52a-5c81-4645-9eaf-0953bbb7fba5"
   },
   "outputs": [],
   "source": [
    "img = cv2.imread('data/sudoku.png', cv2.IMREAD_COLOR)\n",
    "gray = cv2.cvtColor(img, cv2.COLOR_BGR2GRAY)\n",
    "maxval = 255\n",
    "blockSize = 11\n",
    "Constant = 2\n",
    "ori = cv2.adaptiveThreshold(gray, maxval, cv2.ADAPTIVE_THRESH_GAUSSIAN_C, cv2.THRESH_BINARY, blockSize, Constant)\n",
    "plt.imshow(ori,'gray')\n",
    "plt.show()"
   ]
  },
  {
   "cell_type": "markdown",
   "metadata": {},
   "source": [
    "# 影像濾波\n",
    "> 用於去除影像中的`雜訊`和不必要的細節，同時保留或強化感興趣的特徵"
   ]
  },
  {
   "cell_type": "markdown",
   "metadata": {},
   "source": [
    "## 雜訊種類\n",
    "```\n",
    "抑制影像的雜訊是進行影像前處理的常備工作，因為當影像在傳輸的過程中，可能會受到外在因素的干擾，使得影像出現雜訊導致失真。\n",
    "出現雜訊的影像若未經過前處理，直接對其進行影像處理如邊緣偵測時或是影像分割等處理，可能就會出現誤判的情況。\n",
    "噪聲可能源於各種原因，如攝影設備、傳輸過程或環境條件。\n",
    "```\n",
    "以下是常見的影像噪聲種類\n",
    "* 高斯噪聲 Gaussian Noise\n",
    "\n",
    "> 高正態分佈的隨機噪聲，特徵是數據值集中在平均值附近，並且隨著偏離平均值的距離增加而逐漸減少。通常由感測器電子波動或傳輸過程引起。\n",
    "\n",
    "* 鹽和胡椒噪聲 Impulse( Salt-and-Pepper) Noise\n",
    "\n",
    "> 椒鹽噪聲也稱為脈衝雜訊，是圖像中經常見到的一種雜訊，它是一種隨機出現的白點或者黑點，可能是亮的區域有黑色像素或是在暗的區域有白色像素（或是兩者皆有）。椒鹽噪聲的成因可能是影像訊號受到突如其來的強烈干擾而產生、模數轉換器或位元傳輸錯誤等。例如失效的感應器導致像素值為最小值，飽和的感應器導致像素值為最大值。\n",
    "\n",
    "*　均值噪聲\n",
    "> 均勻分佈的噪聲，特徵是所有數據點的值具有相似的概率。這通常源於數據量化過程中的不確定性。"
   ]
  },
  {
   "cell_type": "markdown",
   "metadata": {
    "colab_type": "text",
    "id": "ioiB4v4coE0t"
   },
   "source": [
    "# Mean filter (平均濾波器)"
   ]
  },
  {
   "cell_type": "code",
   "execution_count": null,
   "metadata": {
    "colab": {},
    "colab_type": "code",
    "id": "5GB2TOtooE0t",
    "outputId": "640e9872-389e-4354-8b0b-4f99766b7d87"
   },
   "outputs": [],
   "source": [
    "blurMean = cv2.blur(ori,(5,5))\n",
    "plt.imshow(blurMean,'gray')\n",
    "plt.show()"
   ]
  },
  {
   "cell_type": "markdown",
   "metadata": {
    "colab_type": "text",
    "id": "9lyN3DSYoE0w"
   },
   "source": [
    "# Gaussian filter (高斯濾波器)"
   ]
  },
  {
   "cell_type": "code",
   "execution_count": null,
   "metadata": {
    "colab": {},
    "colab_type": "code",
    "id": "SgALdW8OoE0w",
    "outputId": "23257866-9646-4176-db18-54de1bdcd558"
   },
   "outputs": [],
   "source": [
    "blurGauss = cv2.GaussianBlur(ori,(5,5),5)\n",
    "plt.imshow(blurGauss,'gray')\n",
    "plt.show()"
   ]
  },
  {
   "cell_type": "markdown",
   "metadata": {
    "colab_type": "text",
    "id": "uuUh7y-8oE0z"
   },
   "source": [
    "# Median filter (中值濾波器)"
   ]
  },
  {
   "cell_type": "code",
   "execution_count": null,
   "metadata": {
    "colab": {},
    "colab_type": "code",
    "id": "omLKim4KoE0z",
    "outputId": "0890ebf3-4e43-42df-b307-2cd61d4dad2b"
   },
   "outputs": [],
   "source": [
    "blurMedian = cv2.medianBlur(ori,3)\n",
    "plt.imshow(blurMedian,'gray')\n",
    "plt.show()"
   ]
  },
  {
   "cell_type": "markdown",
   "metadata": {
    "colab_type": "text",
    "id": "v-GqKZ9OoE02"
   },
   "source": [
    "# Bilateral filter (雙邊濾波器)"
   ]
  },
  {
   "cell_type": "code",
   "execution_count": null,
   "metadata": {
    "colab": {},
    "colab_type": "code",
    "id": "Kz0xae-uoE02",
    "outputId": "6ac0af07-43b3-48fd-8604-dd1de17006d2"
   },
   "outputs": [],
   "source": [
    "blurBilateral = cv2.bilateralFilter(ori,9,75,75)\n",
    "plt.imshow(blurBilateral,'gray')\n",
    "plt.show()"
   ]
  },
  {
   "cell_type": "markdown",
   "metadata": {
    "colab_type": "text",
    "id": "u-LTe6AdoE05"
   },
   "source": [
    "# Difference kernel size"
   ]
  },
  {
   "cell_type": "code",
   "execution_count": null,
   "metadata": {
    "colab": {},
    "colab_type": "code",
    "id": "FfdqV_AJoE06",
    "outputId": "83c8fe23-e71b-43d4-c49d-10be865a94d5"
   },
   "outputs": [],
   "source": [
    "gray = cv2.imread(\"data/lena_salt_pepper.png\", cv2.IMREAD_GRAYSCALE)\n",
    "ksize = 3\n",
    "blurMean1 = cv2.medianBlur(gray,ksize)\n",
    "ksize = 7\n",
    "blurMean2 = cv2.medianBlur(gray,ksize)\n",
    "ksize = 11\n",
    "blurMean3 = cv2.medianBlur(gray,ksize)\n",
    "ksize = 15\n",
    "blurMean4 = cv2.medianBlur(gray,ksize)\n",
    "ksize = 19\n",
    "blurMean5 = cv2.medianBlur(gray,ksize)\n",
    "titles = ['Original Image','ksize = 3','ksize = 7','ksize = 11','ksize = 15','ksize = 19']\n",
    "images = [gray, blurMean1, blurMean2, blurMean3, blurMean4, blurMean5]\n",
    "plt.figure(num=None, figsize=(12, 9))\n",
    "for i in range(6):\n",
    "    plt.subplot(2,3,i+1)\n",
    "    plt.imshow(images[i],'gray')\n",
    "    plt.title(titles[i],fontsize=20)\n",
    "    plt.xticks([]),plt.yticks([])"
   ]
  },
  {
   "cell_type": "markdown",
   "metadata": {},
   "source": [
    "生理特徵或影像設備的操作方式有關。\n",
    "\n",
    "## 總結\n",
    "高斯濾波：用高斯模糊來平滑圖像，減少高斯噪聲。\\\n",
    "中值濾波：適合消除鹽和胡椒噪聲，通常會在每個通道上獨立應用。\\\n",
    "雙邊濾波：可以在保持邊緣的情況下進行平滑處理，適合彩色影像。"
   ]
  },
  {
   "cell_type": "markdown",
   "metadata": {
    "colab_type": "text",
    "id": "qR_UQCNXoE0-"
   },
   "source": [
    "# 練習\n",
    "# 利用學到的濾波器過濾鹹蛋超人影像的椒鹽噪聲 (data/Egg.PNG)\n"
   ]
  },
  {
   "cell_type": "code",
   "execution_count": null,
   "metadata": {},
   "outputs": [],
   "source": [
    "import numpy as np\n",
    "import cv2\n",
    "#%matplotlib notebook\n",
    "from matplotlib import pyplot as plt\n",
    "\n",
    "img = cv2.imread('data/Egg.PNG', cv2.IMREAD_COLOR)\n",
    "gray = cv2.cvtColor(img, cv2.COLOR_BGR2GRAY)\n",
    "plt.imshow(gray,'gray')\n",
    "plt.show()\n",
    "blurMedian = cv2.medianBlur(gray,5)\n",
    "plt.imshow(blurMedian,'gray')\n",
    "plt.show()\n"
   ]
  },
  {
   "cell_type": "code",
   "execution_count": null,
   "metadata": {
    "colab": {},
    "colab_type": "code",
    "id": "iSH9R-HcoE1D"
   },
   "outputs": [],
   "source": [
    "img = cv2.imread('data/Egg.PNG', cv2.IMREAD_COLOR)\n",
    "\n",
    "blurMedian = cv2.medianBlur(img,5)\n",
    "blurMedian = cv2.cvtColor(blurMedian, cv2.COLOR_BGR2RGB)\n",
    "\n",
    "plt.imshow(blurMedian,'gray')\n",
    "plt.show()"
   ]
  }
 ],
 "metadata": {
  "colab": {
   "collapsed_sections": [],
   "name": "ch7_smoothing.ipynb",
   "provenance": []
  },
  "kernelspec": {
   "display_name": "Python 3 (ipykernel)",
   "language": "python",
   "name": "python3"
  },
  "language_info": {
   "codemirror_mode": {
    "name": "ipython",
    "version": 3
   },
   "file_extension": ".py",
   "mimetype": "text/x-python",
   "name": "python",
   "nbconvert_exporter": "python",
   "pygments_lexer": "ipython3",
   "version": "3.12.2"
  }
 },
 "nbformat": 4,
 "nbformat_minor": 4
}
