{
 "cells": [
  {
   "cell_type": "code",
   "execution_count": 2,
   "metadata": {},
   "outputs": [],
   "source": [
    "import numpy as np\n",
    "import cv2\n",
    "from matplotlib import pyplot as plt"
   ]
  },
  {
   "cell_type": "markdown",
   "metadata": {},
   "source": [
    "# 滑桿事件 Track Bar\n",
    "如何使用 OpenCV 來創建一個帶有滑動條的GUI控制功能，允許使用者動態調整圖像的顏色。"
   ]
  },
  {
   "cell_type": "code",
   "execution_count": 4,
   "metadata": {},
   "outputs": [],
   "source": [
    "# 定義改變顏色的回調函數\n",
    "def changeColor(x):\n",
    "    # 獲取滑動條的位置值\n",
    "    s = cv2.getTrackbarPos('0:OFF\\n1:ON', 'image')\n",
    "    r = cv2.getTrackbarPos('R', 'image')\n",
    "    g = cv2.getTrackbarPos('G', 'image')\n",
    "    b = cv2.getTrackbarPos('B', 'image')\n",
    "\n",
    "    # 根據滑動條的 ON/OFF 狀態更新圖像顏色\n",
    "    if s == 0:\n",
    "        img[:] = 0  # 將圖像設置為黑色\n",
    "    else:\n",
    "        img[:] = [b, g, r]  # 更新圖像顏色，注意 OpenCV 使用 BGR 而非 RGB\n",
    "\n",
    "    # 顯示更新後的圖像\n",
    "    cv2.imshow('image', img)\n",
    "\n",
    "# 創建一個 2x2 的黑色圖像\n",
    "img = np.zeros((2, 2, 3), np.uint8)\n",
    "\n",
    "# 創建一個名為 'image' 的窗口\n",
    "cv2.namedWindow('image', cv2.WINDOW_NORMAL)\n",
    "\n",
    "# 在 'image' 窗口上創建滑動條\n",
    "cv2.createTrackbar('0:OFF\\n1:ON', 'image', 0, 1, changeColor)\n",
    "cv2.createTrackbar('R', 'image', 0, 255, changeColor)\n",
    "cv2.createTrackbar('G', 'image', 0, 255, changeColor)\n",
    "cv2.createTrackbar('B', 'image', 0, 255, changeColor)\n",
    "\n",
    "# 進入無窮迴圈等待用戶互動\n",
    "while(True):\n",
    "    # 如果按下 'ESC' 鍵則退出迴圈\n",
    "    if cv2.waitKey(1) & 0xFF == 27:\n",
    "        break\n",
    "\n",
    "# 關閉所有 OpenCV 窗口\n",
    "cv2.destroyAllWindows()"
   ]
  },
  {
   "cell_type": "markdown",
   "metadata": {},
   "source": [
    "### Circle Track Bar\n",
    "利用 OpenCV 的 GUI 功能來與用戶互動，通過滑動條實時調整圖像中圓圈的顏色和邊框寬度。\n"
   ]
  },
  {
   "cell_type": "code",
   "execution_count": 5,
   "metadata": {},
   "outputs": [],
   "source": [
    "# 定義回調函數以處理滑動條的變化\n",
    "def changeColor(x):\n",
    "    # 每次滑動條變化時都重新創建一個黑色背景圖像\n",
    "    img = np.zeros((300,300,3), np.uint8)\n",
    "    # 獲取滑動條的位置值\n",
    "    s = cv2.getTrackbarPos('0:OFF\\n1:ON', 'image')\n",
    "    r = cv2.getTrackbarPos('R', 'image')\n",
    "    g = cv2.getTrackbarPos('G', 'image')\n",
    "    b = cv2.getTrackbarPos('B', 'image')\n",
    "    w = cv2.getTrackbarPos('W', 'image')\n",
    "\n",
    "    # 根據滑動條“0:OFF\\n1:ON”的值決定是否繪制圓圈\n",
    "    if s == 0:\n",
    "        img[:] = 0  # 不繪制圓圈，保持背景為黑色\n",
    "    else:\n",
    "        # 根據滑動條“W”的值決定圓圈的邊框寬度\n",
    "        if w == 0:\n",
    "            cv2.circle(img, (150, 150), 10, (b, g, r), -1)  # 實心圓\n",
    "        else:\n",
    "            cv2.circle(img, (150, 150), 10, (b, g, r), w)  # 邊框圓\n",
    "\n",
    "    # 顯示圖像\n",
    "    cv2.imshow('image', img)\n",
    "\n",
    "# 創建一個黑色背景圖像\n",
    "img = np.zeros((300, 300, 3), np.uint8)\n",
    "# 創建一個窗口\n",
    "cv2.namedWindow('image')\n",
    "# 為窗口添加滑動條，並設置回調函數\n",
    "cv2.createTrackbar('0:OFF\\n1:ON', 'image', 0, 1, changeColor)\n",
    "cv2.createTrackbar('R', 'image', 0, 255, changeColor)\n",
    "cv2.createTrackbar('G', 'image', 0, 255, changeColor)\n",
    "cv2.createTrackbar('B', 'image', 0, 255, changeColor)\n",
    "cv2.createTrackbar('W', 'image', 0, 50, changeColor)\n",
    "\n",
    "# 進入事件循環，等待用戶操作或按下 ESC 鍵退出\n",
    "while img.size != 0:\n",
    "    if cv2.waitKey(1) & 0xFF == 27:\n",
    "        break\n",
    "    \n",
    "    # 檢查視窗是否因為點擊 'X' 而被關閉\n",
    "    if cv2.getWindowProperty('image', cv2.WND_PROP_VISIBLE) < 1:\n",
    "        break\n",
    "        \n",
    "# 釋放所有 OpenCV 資源\n",
    "cv2.destroyAllWindows()"
   ]
  },
  {
   "cell_type": "markdown",
   "metadata": {},
   "source": [
    "# 延伸範例參考 - 滑桿事件\n",
    "### PutText Track Bar\n",
    "```python\n",
    "font=cv2.FONT_HERSHEY_SIMPLEX\n",
    "cv2.putText(img,'OpenCV',(10,200), font, 4,(b,g,r),w)\n",
    "```\n",
    "![image.png](attachment:image.png)"
   ]
  },
  {
   "cell_type": "code",
   "execution_count": 6,
   "metadata": {},
   "outputs": [
    {
     "ename": "",
     "evalue": "",
     "output_type": "error",
     "traceback": [
      "\u001b[1;31mThe Kernel crashed while executing code in the current cell or a previous cell. \n",
      "\u001b[1;31mPlease review the code in the cell(s) to identify a possible cause of the failure. \n",
      "\u001b[1;31mClick <a href='https://aka.ms/vscodeJupyterKernelCrash'>here</a> for more info. \n",
      "\u001b[1;31mView Jupyter <a href='command:jupyter.viewOutput'>log</a> for further details."
     ]
    }
   ],
   "source": [
    "# PutText Track Bar\n",
    "import numpy as np\n",
    "import cv2\n",
    "def changeColor(x):\n",
    "    s = cv2.getTrackbarPos('0:OFF\\n1:ON','image')\n",
    "    r = cv2.getTrackbarPos('R','image')\n",
    "    g = cv2.getTrackbarPos('G','image')\n",
    "    b = cv2.getTrackbarPos('B','image')\n",
    "    w = cv2.getTrackbarPos('W','image')\n",
    "    if s == 0:\n",
    "        img[:] = 0\n",
    "    else:\n",
    "        font = cv2.FONT_HERSHEY_SIMPLEX\n",
    "        cv2.putText(img,'OpenCV',(10,200), font, 4,(b,g,r),w)\n",
    "    cv2.imshow('image',img)\n",
    "\n",
    "img = np.zeros((300,512,3),np.uint8)\n",
    "cv2.namedWindow('image')\n",
    "cv2.createTrackbar('0:OFF\\n1:ON','image',0,1,changeColor)\n",
    "cv2.createTrackbar('R','image',0,255,changeColor)\n",
    "cv2.createTrackbar('G','image',0,255,changeColor)\n",
    "cv2.createTrackbar('B','image',0,255,changeColor)\n",
    "cv2.createTrackbar('W','image',0,20,changeColor)\n",
    "while(img.size != 0):\n",
    "    if cv2.waitKey(1) & 0xFF == 27:\n",
    "        break\n",
    "     # 檢查視窗是否因為點擊 'X' 而被關閉\n",
    "    if cv2.getWindowProperty('image', cv2.WND_PROP_VISIBLE) < 1:\n",
    "        break\n",
    "cv2.destroyAllWindows()"
   ]
  }
 ],
 "metadata": {
  "kernelspec": {
   "display_name": "Python 3 (ipykernel)",
   "language": "python",
   "name": "python3"
  },
  "language_info": {
   "codemirror_mode": {
    "name": "ipython",
    "version": 3
   },
   "file_extension": ".py",
   "mimetype": "text/x-python",
   "name": "python",
   "nbconvert_exporter": "python",
   "pygments_lexer": "ipython3",
   "version": "3.12.2"
  }
 },
 "nbformat": 4,
 "nbformat_minor": 4
}
