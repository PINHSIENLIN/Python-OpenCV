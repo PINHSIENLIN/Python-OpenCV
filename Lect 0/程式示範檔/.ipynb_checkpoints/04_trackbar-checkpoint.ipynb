{
 "cells": [
  {
   "cell_type": "markdown",
   "metadata": {},
   "source": [
    "# OpenCV Trackbar 簡介\n",
    "OpenCV 提供了一個方便的工具，`cv2.createTrackbar`，允許在圖像窗口中創建滑動條（trackbar）。<br>\n",
    "這對於實時調整參數值，查看其對圖像處理效果的即時影響非常有用。<br>\n",
    "\n",
    "`cv2.createTrackbar` 函數可以在指定的窗口上創建一個滑動條。<br>\n",
    "使用者可以通過拖動滑塊來改變參數值，並透過回調函數獲取這個值來實時更新圖像或其他資料。<br>\n",
    "\n",
    "* 滑動條的值範圍,名稱,所屬窗口等都可以自訂。<br>\n",
    "* 當滑動條的值改變時，一個指定的回調函數將被調用。"
   ]
  },
  {
   "cell_type": "markdown",
   "metadata": {},
   "source": [
    "# import library"
   ]
  },
  {
   "cell_type": "code",
   "execution_count": 13,
   "metadata": {},
   "outputs": [
    {
     "name": "stdout",
     "output_type": "stream",
     "text": [
      "4.0.1\n"
     ]
    }
   ],
   "source": [
    "import numpy as np\n",
    "import cv2\n",
    "print(cv2.__version__)"
   ]
  },
  {
   "cell_type": "markdown",
   "metadata": {},
   "source": [
    "# Track Bar"
   ]
  },
  {
   "cell_type": "code",
   "execution_count": 1,
   "metadata": {},
   "outputs": [
    {
     "ename": "ModuleNotFoundError",
     "evalue": "No module named 'cv2'",
     "output_type": "error",
     "traceback": [
      "\u001b[1;31m---------------------------------------------------------------------------\u001b[0m",
      "\u001b[1;31mModuleNotFoundError\u001b[0m                       Traceback (most recent call last)",
      "Cell \u001b[1;32mIn[1], line 1\u001b[0m\n\u001b[1;32m----> 1\u001b[0m \u001b[38;5;28;01mimport\u001b[39;00m \u001b[38;5;21;01mcv2\u001b[39;00m\n\u001b[0;32m      2\u001b[0m \u001b[38;5;28;01mimport\u001b[39;00m \u001b[38;5;21;01mnumpy\u001b[39;00m \u001b[38;5;28;01mas\u001b[39;00m \u001b[38;5;21;01mnp\u001b[39;00m\n\u001b[0;32m      4\u001b[0m \u001b[38;5;66;03m# 回調函數，每次滑動條改變時被調用\u001b[39;00m\n",
      "\u001b[1;31mModuleNotFoundError\u001b[0m: No module named 'cv2'"
     ]
    }
   ],
   "source": [
    "import cv2\n",
    "import numpy as np\n",
    "\n",
    "# 回調函數，每次滑動條改變時被調用\n",
    "def change_brightness(val):\n",
    "    # val 是滑動條的當前位置\n",
    "    # 改變亮度並顯示圖像\n",
    "    new_img = np.clip(img + val - trackbar_init_value, 0, 255).astype(np.uint8)\n",
    "    cv2.imshow('Image with Adjustable Brightness', new_img)\n",
    "\n",
    "# 載入一張圖像\n",
    "img = cv2.imread('path/to/your/image.jpg')\n",
    "\n",
    "# 創建一個窗口\n",
    "cv2.namedWindow('Image with Adjustable Brightness')\n",
    "\n",
    "# 初始化滑動條的位置\n",
    "trackbar_init_value = 128\n",
    "\n",
    "# 創建滑動條\n",
    "cv2.createTrackbar('Brightness', 'Image with Adjustable Brightness', trackbar_init_value, 255, change_brightness)\n",
    "\n",
    "# 使用初始亮度值顯示圖像\n",
    "change_brightness(trackbar_init_value)\n",
    "\n",
    "# 等待用戶結束程式\n",
    "cv2.waitKey(0)\n",
    "cv2.destroyAllWindows()"
   ]
  },
  {
   "cell_type": "code",
   "execution_count": null,
   "metadata": {},
   "outputs": [],
   "source": [
    "#建立回调函数\n",
    "def changeColor(x):\n",
    "    s=cv2.getTrackbarPos('0:OFF\\n1:ON','image')\n",
    "    r=cv2.getTrackbarPos('R','image')\n",
    "    g=cv2.getTrackbarPos('G','image')\n",
    "    b=cv2.getTrackbarPos('B','image')\n",
    "    if s==0:\n",
    "        img[:]=0\n",
    "    else:\n",
    "        #print(img[:])\n",
    "        img[:]=[b,g,r]\n",
    "        #img[:]=[r,g,b] # error color channel\n",
    "    cv2.imshow('image',img)\n",
    "#建立一影像 \n",
    "img=np.zeros((2,2,3),np.uint8)\n",
    "cv2.namedWindow('image',cv2.WINDOW_NORMAL)\n",
    "cv2.createTrackbar('0:OFF\\n1:ON','image',0,1,changeColor)\n",
    "cv2.createTrackbar('R','image',0,255,changeColor)\n",
    "cv2.createTrackbar('G','image',0,255,changeColor)\n",
    "cv2.createTrackbar('B','image',0,255,changeColor)\n",
    "\n",
    "while(True):\n",
    "    if cv2.waitKey(1)&0xFF==27:\n",
    "        break\n",
    "        \n",
    "cv2.destroyAllWindows()"
   ]
  },
  {
   "cell_type": "markdown",
   "metadata": {},
   "source": [
    "# 滑鼠事件處理 in OpenCV\n",
    "在 OpenCV 中，您可以使用滑鼠事件來互動地修改或查看圖像。<br>\n",
    "OpenCV 提供了一種方式來捕捉滑鼠事件，如點擊、拖動等，並根據這些事件執行特定的回調函數。<br>\n",
    "以下是如何在 OpenCV 中使用滑鼠事件的基本介紹：<br>\n",
    "\n",
    "#### 設定滑鼠回調函數\n",
    "使用 `cv2.setMouseCallback(windowName, callbackFunc, param=None)` 函數來為指定視窗設定一個監控器。<br>\n",
    "當在該窗口中發生滑鼠事件時，回調函數將被呼叫。<br>\n",
    "* windowName：視窗名稱。\n",
    "* callbackFunc：滑鼠事件的回調函數名稱。\n",
    "* param：傳遞給回調函數的參數。\n",
    "\n",
    "#### 回調函數的原型\n",
    "\n",
    "```python\n",
    "def callbackFunc(event, x, y, flags, param):\n",
    "    pass\n",
    "```\n",
    "* event：描述滑鼠事件的類型（如移動、按下、釋放、雙擊等）。\n",
    "* x 和 y：滑鼠事件發生時的座標。\n",
    "* flags：任何與滑鼠事件相關的標誌。\n",
    "* param：傳遞給回調函數的額外參數。\n",
    "\n",
    "#### 處理不同的滑鼠事件\n",
    "在回調函數內部，可以根據 event 的值來判斷滑鼠事件的類型，<br>\n",
    "* cv2.EVENT_LBUTTONDOWN 表示左鍵按下，cv2.EVENT_MOUSEMOVE 表示滑鼠移動等。"
   ]
  },
  {
   "cell_type": "code",
   "execution_count": null,
   "metadata": {},
   "outputs": [],
   "source": [
    "import cv2\n",
    "\n",
    "# 滑鼠回調函數\n",
    "def print_coordinates(event, x, y, flags, param):\n",
    "    if event == cv2.EVENT_LBUTTONDOWN:\n",
    "        print(f\"Left button clicked at ({x}, {y})\")\n",
    "\n",
    "# 創建顯示圖像的窗口\n",
    "cv2.namedWindow(\"Image\")\n",
    "\n",
    "# 設定滑鼠回調函數\n",
    "cv2.setMouseCallback(\"Image\", print_coordinates)\n",
    "\n",
    "# 顯示圖像\n",
    "img = cv2.imread('path/to/your/image.jpg')\n",
    "cv2.imshow(\"Image\", img)\n",
    "\n",
    "# 等待直到任何鍵被按下\n",
    "cv2.waitKey(0)\n",
    "cv2.destroyAllWindows()"
   ]
  },
  {
   "cell_type": "markdown",
   "metadata": {},
   "source": [
    "#### 使用滑鼠事件在圖像上繪製圓圈的範例"
   ]
  },
  {
   "cell_type": "code",
   "execution_count": null,
   "metadata": {},
   "outputs": [],
   "source": [
    "import cv2\n",
    "\n",
    "# 滑鼠回調函數\n",
    "def draw_circle(event, x, y, flags, param):\n",
    "    if event == cv2.EVENT_LBUTTONDBLCLK:\n",
    "        cv2.circle(img, (x, y), 100, (255, 0, 0), -1)\n",
    "\n",
    "# 創建一個黑色的圖像\n",
    "img = cv2.imread('your_image_path')\n",
    "cv2.namedWindow('image')\n",
    "cv2.setMouseCallback('image', draw_circle)\n",
    "\n",
    "while(True):\n",
    "    cv2.imshow('image', img)\n",
    "    if cv2.waitKey(20) & 0xFF == 27:  # 按 ESC 鍵退出\n",
    "        break\n",
    "\n",
    "cv2.destroyAllWindows()"
   ]
  },
  {
   "cell_type": "markdown",
   "metadata": {},
   "source": [
    "#### 如何在 OpenCV 中設定和響應不同的滑鼠事件"
   ]
  },
  {
   "cell_type": "code",
   "execution_count": 14,
   "metadata": {
    "scrolled": true
   },
   "outputs": [
    {
     "name": "stdout",
     "output_type": "stream",
     "text": [
      "141 82 1 1 按左键\n",
      "141 82 2 2 按右键\n",
      "138 87 1 1 按左键\n",
      "138 88 0 1 左鍵拖曳\n",
      "138 89 0 1 左鍵拖曳\n",
      "138 90 0 1 左鍵拖曳\n",
      "139 93 0 1 左鍵拖曳\n",
      "142 95 0 1 左鍵拖曳\n",
      "147 100 0 1 左鍵拖曳\n",
      "153 106 0 1 左鍵拖曳\n",
      "162 114 0 1 左鍵拖曳\n",
      "165 116 0 1 左鍵拖曳\n",
      "167 120 0 1 左鍵拖曳\n",
      "173 126 0 1 左鍵拖曳\n",
      "178 132 0 1 左鍵拖曳\n",
      "181 137 0 1 左鍵拖曳\n",
      "187 143 0 1 左鍵拖曳\n",
      "191 148 0 1 左鍵拖曳\n",
      "193 150 0 1 左鍵拖曳\n",
      "195 153 0 1 左鍵拖曳\n",
      "197 155 0 1 左鍵拖曳\n",
      "197 158 0 1 左鍵拖曳\n",
      "198 159 0 1 左鍵拖曳\n",
      "199 162 0 1 左鍵拖曳\n",
      "202 164 0 1 左鍵拖曳\n",
      "204 165 0 1 左鍵拖曳\n",
      "205 167 0 1 左鍵拖曳\n",
      "210 172 0 1 左鍵拖曳\n",
      "211 173 0 1 左鍵拖曳\n",
      "211 174 0 1 左鍵拖曳\n",
      "212 175 0 1 左鍵拖曳\n",
      "213 176 0 1 左鍵拖曳\n",
      "214 177 0 1 左鍵拖曳\n",
      "214 179 0 1 左鍵拖曳\n",
      "215 179 0 1 左鍵拖曳\n",
      "134 126 3 4 按中键\n"
     ]
    }
   ],
   "source": [
    "#建立回调函数\n",
    "def OnMouseAction(event,x,y,flags,param):\n",
    "    if event == cv2.EVENT_LBUTTONDOWN:\n",
    "        print(x,y,event,flags,\"左鍵點擊\")\n",
    "    elif event==cv2.EVENT_RBUTTONDOWN :\n",
    "        print(x,y,event,flags,\"右键點擊\")\n",
    "    elif flags==cv2.EVENT_FLAG_LBUTTON:\n",
    "        print(x,y,event,flags,\"左鍵拖曳\")\n",
    "    elif event==cv2.EVENT_MBUTTONDOWN :\n",
    "        print(x,y,event,flags,\"中键點擊\")\n",
    "\n",
    "img = np.zeros((500,500,3),np.uint8)\n",
    "cv2.namedWindow('image')\n",
    "cv2.setMouseCallback('image',OnMouseAction)\n",
    "while(img.size!=0):\n",
    "    if cv2.waitKey(1)&0xFF==27:\n",
    "        break\n",
    "    cv2.imshow('image',img)\n",
    "cv2.destroyAllWindows()"
   ]
  },
  {
   "cell_type": "code",
   "execution_count": null,
   "metadata": {},
   "outputs": [],
   "source": []
  }
 ],
 "metadata": {
  "kernelspec": {
   "display_name": "Python 3 (ipykernel)",
   "language": "python",
   "name": "python3"
  },
  "language_info": {
   "codemirror_mode": {
    "name": "ipython",
    "version": 3
   },
   "file_extension": ".py",
   "mimetype": "text/x-python",
   "name": "python",
   "nbconvert_exporter": "python",
   "pygments_lexer": "ipython3",
   "version": "3.11.7"
  }
 },
 "nbformat": 4,
 "nbformat_minor": 4
}
