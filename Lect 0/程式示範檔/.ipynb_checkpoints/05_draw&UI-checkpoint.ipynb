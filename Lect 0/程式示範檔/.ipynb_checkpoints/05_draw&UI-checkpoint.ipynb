{
 "cells": [
  {
   "cell_type": "code",
   "execution_count": 1,
   "metadata": {},
   "outputs": [],
   "source": [
    "import numpy as np\n",
    "import cv2\n",
    "from matplotlib import pyplot as plt"
   ]
  },
  {
   "cell_type": "markdown",
   "metadata": {},
   "source": [
    "# 滑鼠事件\n"
   ]
  },
  {
   "cell_type": "code",
   "execution_count": 2,
   "metadata": {},
   "outputs": [
    {
     "name": "stdout",
     "output_type": "stream",
     "text": [
      "['EVENT_FLAG_ALTKEY', 'EVENT_FLAG_CTRLKEY', 'EVENT_FLAG_LBUTTON', 'EVENT_FLAG_MBUTTON', 'EVENT_FLAG_RBUTTON', 'EVENT_FLAG_SHIFTKEY', 'EVENT_LBUTTONDBLCLK', 'EVENT_LBUTTONDOWN', 'EVENT_LBUTTONUP', 'EVENT_MBUTTONDBLCLK', 'EVENT_MBUTTONDOWN', 'EVENT_MBUTTONUP', 'EVENT_MOUSEHWHEEL', 'EVENT_MOUSEMOVE', 'EVENT_MOUSEWHEEL', 'EVENT_RBUTTONDBLCLK', 'EVENT_RBUTTONDOWN', 'EVENT_RBUTTONUP']\n"
     ]
    }
   ],
   "source": [
    "#滑鼠事件\n",
    "import numpy as np\n",
    "import cv2\n",
    "events = [i for i in dir(cv2) if 'EVENT' in i]\n",
    "print(events)"
   ]
  },
  {
   "cell_type": "code",
   "execution_count": null,
   "metadata": {},
   "outputs": [],
   "source": [
    "#範例程式碼\n",
    "def OnMouseAction(event,x,y,flags,param):\n",
    "    if event == cv2.EVENT_LBUTTONDOWN:\n",
    "        print(x,y,event,flags,\"按左键\")\n",
    "    elif event==cv2.EVENT_RBUTTONDOWN :\n",
    "        print(x,y,event,flags,\"按右键\")\n",
    "    elif flags==cv2.EVENT_FLAG_LBUTTON:\n",
    "        print(x,y,event,flags,\"左鍵拖曳\")\n",
    "    elif event==cv2.EVENT_MBUTTONDOWN :\n",
    "        print(x,y,event,flags,\"按中键\")\n",
    "\n",
    "img = np.zeros((500,500,3),np.uint8)\n",
    "cv2.namedWindow('image')\n",
    "cv2.setMouseCallback('image',OnMouseAction)\n",
    "while(img.size!=0):\n",
    "    if cv2.waitKey(1)&0xFF==27:\n",
    "        break\n",
    "    if cv2.getWindowProperty('image', cv2.WND_PROP_VISIBLE) < 1:\n",
    "        break\n",
    "    cv2.imshow('image',img)\n",
    "cv2.destroyAllWindows()"
   ]
  },
  {
   "cell_type": "markdown",
   "metadata": {},
   "source": [
    "## 繪製圓形: 按左鍵實心圓 按右鍵空心圓"
   ]
  },
  {
   "cell_type": "code",
   "execution_count": null,
   "metadata": {},
   "outputs": [],
   "source": []
  },
  {
   "cell_type": "markdown",
   "metadata": {},
   "source": [
    "# 延伸範例參考 - 滑鼠事件\n",
    "## 用滑鼠事件畫其他圖形(長方型)\n",
    "cv2.rectangle(img,(start_x,start_y),(start_x+200,start_y+100) ,(0,255,0),1)"
   ]
  },
  {
   "cell_type": "code",
   "execution_count": null,
   "metadata": {},
   "outputs": [],
   "source": [
    "\n",
    "\n",
    "img = np.zeros((500,500,3),np.uint8)\n",
    "cv2.namedWindow('image')\n",
    "\n",
    "#設定滑鼠監控\n",
    "\n",
    "while(img.size!=0):\n",
    "    if cv2.waitKey(1)&0xFF==27:\n",
    "        break\n",
    "    if cv2.getWindowProperty('image', cv2.WND_PROP_VISIBLE) < 1:\n",
    "        break\n",
    "    cv2.imshow('image',img)\n",
    "cv2.destroyAllWindows()"
   ]
  },
  {
   "cell_type": "markdown",
   "metadata": {},
   "source": [
    "## 拖曳畫矩陣 \n",
    "##### 初始化繪製矩形所需的坐標和狀態變量\n",
    "##### ix, iy - 矩形左上角的初始坐標\n",
    "##### px, py - 矩形對角線上點的實時坐標，隨滑鼠移動而變化\n",
    "##### drawing - 一個布爾變量，指示是否開始繪製矩形\n",
    "##### 該段程式碼用於在滑鼠拖曳時繪製矩形。拖曳的起始點為矩形的一個角，移動時的點為對角線上的另一個角。\n",
    "```python\n",
    "global ix, iy, px, py, drawing\n",
    "```\n",
    "參考資料: https://www.itread01.com/content/1546512495.html"
   ]
  },
  {
   "cell_type": "code",
   "execution_count": null,
   "metadata": {},
   "outputs": [],
   "source": [
    "import numpy as np\n",
    "import cv2\n",
    "drawing = False #滑鼠按下為真\n",
    "rects = np.zeros((512,512,3),np.uint8)\n",
    "ix,iy=-1,-1\n",
    "px,py=-1,-1\n",
    "\n",
    "def draw_rectangle(event,x,y,flags,param):\n",
    "    global ix,iy,px,py,drawing\n",
    "    \n",
    "\n",
    "img = np.zeros((512,512,3),np.uint8)\n",
    "cv2.namedWindow('image')\n",
    "cv2.setMouseCallback('image',draw_rectangle)\n",
    "\n",
    "while(1):\n",
    "    cv2.imshow('image',img)\n",
    "    k = cv2.waitKey(1) & 0xFF\n",
    "    if k == ord('q') :\n",
    "        break\n",
    "    elif k == 27:\n",
    "        break\n",
    "    if cv2.getWindowProperty('image', cv2.WND_PROP_VISIBLE) < 1:\n",
    "        break\n",
    "cv2.destroyAllWindows()\n"
   ]
  },
  {
   "cell_type": "markdown",
   "metadata": {},
   "source": [
    "## 疊加圖檔模式"
   ]
  },
  {
   "cell_type": "code",
   "execution_count": null,
   "metadata": {},
   "outputs": [],
   "source": []
  },
  {
   "cell_type": "markdown",
   "metadata": {},
   "source": [
    "# 延伸範例參考 - 終極進階小專案\n",
    "## 新增按下m鍵，更改畫的圖形"
   ]
  },
  {
   "cell_type": "code",
   "execution_count": null,
   "metadata": {},
   "outputs": [],
   "source": [
    "#按鍵m改變圖形\n",
    "#True畫矩陣 False畫圓\n",
    "import cv2\n",
    "import math\n",
    "import numpy as np\n",
    "\n",
    "drawing = False # true if mouse is pressed\n",
    "mode = True # if True, draw rectangle. Press 'm' to toggle to curve\n",
    "ix,iy,ex,ey,ir = -1,-1,-1,-1,0\n",
    "rect_data = []\n",
    "circle_data = []\n",
    "\n",
    "def repaint():\n",
    "    img[:,:] = 0\n",
    "    for rect in rect_data:\n",
    "        cv2.rectangle(img,(rect[0],rect[1]),(rect[2],rect[3]),(0,255,0),1)\n",
    "    for c in circle_data:\n",
    "        cv2.circle(img,(c[0],c[1]),c[2],(0,0,255),1)\n",
    "\n",
    "# mouse callback function\n",
    "def draw_obj(event,x,y,flags,param):\n",
    "    global ix,iy,ex,ey,ir,drawing,mode\n",
    "\n",
    "    if event == cv2.EVENT_LBUTTONDOWN:\n",
    "        drawing = True\n",
    "        ix,iy = x,y\n",
    "        ex, ey = x,y\n",
    "        ir = 0\n",
    "        if mode == True:\n",
    "            rect_data.append([ix, iy, ex, ey])\n",
    "        else:\n",
    "            circle_data.append([ix, iy, ir])\n",
    "        \n",
    "    elif event == cv2.EVENT_MOUSEMOVE:\n",
    "        if drawing == True:\n",
    "            ex,ey = x,y\n",
    "            if mode == True:\n",
    "                rect_data[len(rect_data)-1] = [ix, iy, ex, ey]\n",
    "            else:\n",
    "                ir = math.sqrt(math.pow(ex-ix,2)+math.pow(ey-iy,2))\n",
    "                circle_data[len(circle_data)-1] = [ix, iy, int(ir)]\n",
    "            # 重畫所有的點\n",
    "            repaint()\n",
    "    elif event == cv2.EVENT_LBUTTONUP:\n",
    "        drawing = False\n",
    "        ex,ey = x,y\n",
    "        if mode == True:\n",
    "            rect_data[len(rect_data)-1] = [ix, iy, ex, ey]\n",
    "        else:\n",
    "            ir = math.sqrt(math.pow(ex-ix,2)+math.pow(ey-iy,2))\n",
    "            circle_data[len(circle_data)-1] = [ix, iy, int(ir)]\n",
    "        repaint()\n",
    "        \n",
    "    elif event == cv2.EVENT_RBUTTONDOWN:\n",
    "        img[:,:,:] = 0\n",
    "        rect_data.clear()\n",
    "        circle_data.clear()\n",
    "    \n",
    "img = np.zeros((512,512,3), np.uint8)\n",
    "cv2.namedWindow('image')\n",
    "cv2.setMouseCallback('image',draw_obj)\n",
    "\n",
    "while(1):\n",
    "    cv2.imshow('image',img)\n",
    "    k = cv2.waitKey(1) & 0xFF\n",
    "    if k == ord('m'):\n",
    "        mode = not mode\n",
    "    elif k == 27:\n",
    "        break\n",
    "\n",
    "cv2.destroyAllWindows()\n"
   ]
  },
  {
   "cell_type": "code",
   "execution_count": null,
   "metadata": {},
   "outputs": [],
   "source": []
  }
 ],
 "metadata": {
  "kernelspec": {
   "display_name": "Python 3 (ipykernel)",
   "language": "python",
   "name": "python3"
  },
  "language_info": {
   "codemirror_mode": {
    "name": "ipython",
    "version": 3
   },
   "file_extension": ".py",
   "mimetype": "text/x-python",
   "name": "python",
   "nbconvert_exporter": "python",
   "pygments_lexer": "ipython3",
   "version": "3.8.19"
  }
 },
 "nbformat": 4,
 "nbformat_minor": 4
}
