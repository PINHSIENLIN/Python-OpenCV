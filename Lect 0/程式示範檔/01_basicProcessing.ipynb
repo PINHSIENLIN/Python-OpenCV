{
 "cells": [
  {
   "cell_type": "markdown",
   "metadata": {},
   "source": [
    "# 匯入所需的套件\n",
    "#%matplotlib notebook 這行魔法命令就是在告訴 Jupyter Notebook<br>\n",
    "「請把接下來生成的 matplotlib 圖表設置為可互動模式，讓我們可以更靈活地與圖表進行互動。」\n"
   ]
  },
  {
   "cell_type": "code",
   "execution_count": 2,
   "metadata": {},
   "outputs": [
    {
     "name": "stdout",
     "output_type": "stream",
     "text": [
      "4.9.0\n"
     ]
    }
   ],
   "source": [
    "import numpy as np\n",
    "import cv2\n",
    "from matplotlib import pyplot as plt\n",
    "#%matplotlib notebook\n",
    "print(cv2.__version__)"
   ]
  },
  {
   "cell_type": "markdown",
   "metadata": {},
   "source": [
    "# 獲取像素 (Pixel) 值並修改"
   ]
  },
  {
   "cell_type": "code",
   "execution_count": null,
   "metadata": {},
   "outputs": [],
   "source": [
    "# 讀取圖像並指定以彩色模式讀取\n",
    "img = cv2.imread('PIC/PictureElement.png', cv2.IMREAD_COLOR)\n",
    "\n",
    "'''\n",
    "OpenCV 使用 BGR 模式，而 Matplotlib 使用 RGB 模式\n",
    "所以需要將 BGR 轉換為 RGB 以在 Matplotlib 中正確顯示\n",
    "'''\n",
    "imgShow = cv2.cvtColor(img, cv2.COLOR_BGR2RGB)\n",
    "plt.imshow(imgShow)\n",
    "plt.show()\n",
    "\n",
    "# 取得特定像素的 RGB 值\n",
    "px = imgShow[100, 50] \n",
    "print(\"Pixel value RGB:\", px)\n",
    "\n",
    "# 取得該像素的單一頻道值，這裡是紅色通道\n",
    "px_r = imgShow[100, 50, 0]\n",
    "print(\"Pixel value of single channel:\", px_r)\n",
    "\n",
    "# 修改特定像素的 RGB 值為白色\n",
    "imgShow[100, 50] = [255, 255, 255]\n",
    "px_m = imgShow[100, 50]\n",
    "print(\"Modified pixel value RGB:\", px_m)\n",
    "\n",
    "# 單獨修改該像素的紅色通道值\n",
    "imgShow[100, 50, 0] = 255\n",
    "px_r_m = imgShow[100, 50, 0]\n",
    "print(\"Modified pixel value of single channel:\", px_r_m)\n",
    "\n",
    "# 使用 item 和 itemset 方法進行像素值的獲取和修改\n",
    "# 獲取像素的紅色通道值\n",
    "px_i = imgShow.item(100, 50, 0)\n",
    "print(\"Pixel value RGB:\", px_i)\n",
    "\n",
    "# 使用 itemset 修改該像素的紅色通道值\n",
    "imgShow.itemset((100, 50, 0), 255)\n",
    "px_r_s = imgShow[100, 50, 0]\n",
    "print(\"Pixel value of single channel:\", px_r_s)\n",
    "\n",
    "imgShow[100:150, 50:100] = [255,0,0]\n",
    "\n",
    "plt.imshow(imgShow)\n",
    "plt.show()"
   ]
  },
  {
   "cell_type": "code",
   "execution_count": null,
   "metadata": {},
   "outputs": [],
   "source": [
    "# 讀取圖像並指定以彩色模式讀取\n",
    "img = cv2.imread('PIC/PictureElement.png', cv2.IMREAD_COLOR)\n",
    "\n",
    "# 由於 OpenCV 使用 BGR 模式，而 Matplotlib 使用 RGB 模式，因此需要轉換\n",
    "# 將圖像從 BGR 轉換到 RGB 以便於 Matplotlib 正確顯示\n",
    "imgShow = cv2.cvtColor(img, cv2.COLOR_BGR2RGB)\n",
    "\n",
    "# 使用 Matplotlib 顯示圖像\n",
    "plt.imshow(imgShow)\n",
    "plt.show()\n",
    "\n",
    "# 將 R 通道的值設置為 0，移除紅色成分\n",
    "imgShow[:,:,0] = 0\n",
    "print(\"remove R channel\")\n",
    "plt.imshow(imgShow)\n",
    "plt.show()\n",
    "\n",
    "# 將 G 通道的值設置為 0，移除綠色成分\n",
    "imgShow[:,:,1] = 0\n",
    "print(\"remove G channel\")\n",
    "plt.imshow(imgShow)\n",
    "plt.show()\n",
    "\n",
    "# 將 B 通道的值設置為 0，移除藍色成分\n",
    "imgShow[:,:,2] = 0\n",
    "print(\"remove B channel\")\n",
    "plt.imshow(imgShow)\n",
    "plt.show()\n",
    "\n",
    "# 在圖像中添加白色的直線\n",
    "imgShow[:,270,:] = 255  # 在特定的列上添加直線\n",
    "imgShow[167,:,:] = 255  # 在特定的行上添加直線\n",
    "print(\"Add line value\")\n",
    "plt.imshow(imgShow)\n",
    "plt.show()"
   ]
  },
  {
   "cell_type": "markdown",
   "metadata": {},
   "source": [
    "# 取得基本影像資訊"
   ]
  },
  {
   "cell_type": "code",
   "execution_count": null,
   "metadata": {},
   "outputs": [],
   "source": [
    "# 取得圖像的行，列，通道\n",
    "imgShape = imgShow.shape\n",
    "print(\"Image Shape :\",imgShape)\n",
    "\n",
    "# 圖像的像素量\n",
    "imgSize = imgShow.size\n",
    "print(\"Image size :\",imgSize,342*548*3)\n",
    "\n",
    "# 圖像的資料格式\n",
    "imgTpye = imgShow.dtype\n",
    "print(\"Image Tpye :\",imgTpye)"
   ]
  },
  {
   "cell_type": "markdown",
   "metadata": {},
   "source": [
    "# 基本操作範例"
   ]
  },
  {
   "cell_type": "markdown",
   "metadata": {},
   "source": [
    "如何在 Python 中使用 OpenCV 和 Matplotlib 進行基本的圖像處理，包括讀取圖像、色彩空間轉換、選取感興趣區域 (ROI)，以及將該區域複製到圖像的其他位置。"
   ]
  },
  {
   "cell_type": "code",
   "execution_count": null,
   "metadata": {},
   "outputs": [],
   "source": [
    "# 使用 OpenCV 讀取圖像。這裡假設圖像名稱為 'messi5.jpg'，並存放在 'PIC' 資料夾中。\n",
    "img = cv2.imread(r'PIC/messi5.jpg', cv2.IMREAD_COLOR)\n",
    "\n",
    "# 將讀取的圖像從 OpenCV 的默認 BGR 色彩空間轉換為 RGB 色彩空間，以便於 Matplotlib 正確顯示。\n",
    "imgShow = cv2.cvtColor(img, cv2.COLOR_BGR2RGB)\n",
    "\n",
    "# 打印出原始圖像，並使用 Matplotlib 顯示。\n",
    "print(\"Original image\")\n",
    "plt.imshow(imgShow)\n",
    "plt.show()\n",
    "\n",
    "# 定義並提取圖像的一個感興趣區域 (ROI)。這裡選取的是圖像中的一部分區域。\n",
    "# 60 * 60\n",
    "imgROI = imgShow[280:340, 330:390]\n",
    "print(\"ROI image\")\n",
    "plt.imshow(imgROI)\n",
    "plt.show()\n",
    "\n",
    "# 將提取的 ROI 區域複製到圖像的另一個位置。這裡將 ROI 區域複製到圖像的左側。\n",
    "imgShow[273:333, 100:160] = imgROI\n",
    "print(\"Modify image\")\n",
    "plt.imshow(imgShow)\n",
    "plt.show()"
   ]
  },
  {
   "cell_type": "markdown",
   "metadata": {},
   "source": [
    "# 拆解和合併通道 I\n",
    "如何在 Python 中使用 OpenCV 進行圖像處理，具體包括讀取圖像、轉換色彩空間、拆分和合併圖像通道。<br>\n",
    "目的理解圖像在計算機視覺中的基本處理方式，特別是如何操作和理解圖像的色彩通道。<br>\n",
    "1. **讀取並顯示原始圖像**\n",
    "\n",
    "   讀取圖像並將其從 BGR 色彩空間轉換為 RGB，然後顯示該圖像\n",
    "2. **拆解並顯示各通道**\n",
    "   將圖像的 RGB 通道進行拆分，並分別顯示每個通道。<br>\n",
    "   拆分後，每個通道被視為灰階圖像，顯示該通道的強度。\n",
    "\n",
    "3. **合併通道並顯示結果**\n",
    "   \n",
    "將分開的三個通道重新合併成一個彩色圖像，並顯示出<br>\n",
    "   步驟顯示如何從單獨的色彩強度層面重建原始圖道（紅色）：。\n"
   ]
  },
  {
   "cell_type": "code",
   "execution_count": null,
   "metadata": {},
   "outputs": [],
   "source": [
    "# 讀取並顯示原始圖像\n",
    "img = cv2.imread('PIC/PictureElement.png', cv2.IMREAD_COLOR)\n",
    "imgShow = cv2.cvtColor(img, cv2.COLOR_BGR2RGB)\n",
    "print(\"Original image\")\n",
    "plt.imshow(imgShow)\n",
    "plt.show()\n",
    "\n",
    "# 拆解並顯示各通道\n",
    "r,g,b = cv2.split(imgShow)\n",
    "print(\"R channel\")\n",
    "plt.imshow(r,cmap='gray')\n",
    "plt.show()\n",
    "\n",
    "print(\"G channel\")\n",
    "plt.imshow(g,cmap='gray')\n",
    "plt.show()\n",
    "\n",
    "print(\"B channel\")\n",
    "plt.imshow(b,cmap='gray')\n",
    "plt.show()\n",
    "\n",
    "# 合併通道並顯示結果\n",
    "imgMerge = cv2.merge([r,g,b])\n",
    "print(\"Merge channel\")\n",
    "plt.imshow(imgMerge)\n",
    "plt.show()"
   ]
  },
  {
   "cell_type": "markdown",
   "metadata": {},
   "source": [
    "# 拆解和合併通道 II\n",
    "將 R 和 G 通道重新合併，而將 B 通道設置為 0，創建一個新的圖像並顯示。"
   ]
  },
  {
   "cell_type": "code",
   "execution_count": null,
   "metadata": {},
   "outputs": [],
   "source": [
    "# 合併通道\n",
    "imgMerge = np.zeros(imgShow.shape, np.uint8)\n",
    "imgMerge[:,:,0]=r\n",
    "imgMerge[:,:,1]=g\n",
    "imgMerge[:,:,2]=0\n",
    "print(\"Merge channel\")\n",
    "plt.imshow(imgMerge)\n",
    "plt.show()\n",
    "\n",
    "plt.imshow(imgShow)\n",
    "plt.show()"
   ]
  },
  {
   "cell_type": "markdown",
   "metadata": {},
   "source": [
    "# 圖像運算\n",
    "### 影像相加"
   ]
  },
  {
   "cell_type": "code",
   "execution_count": null,
   "metadata": {},
   "outputs": [],
   "source": [
    "# np.zeros((row,column,channels), np.uint8)\n",
    "blackWhite=np.ones(imgShow.shape, np.uint8)\n",
    "blackWhite[:]=255\n",
    "width = 100\n",
    "for i in range(blackWhite.shape[0]):\n",
    "    for j in range(blackWhite.shape[1]):\n",
    "        if int(i/width)%2 == 0:\n",
    "            if int(j/width)%2 == 1:\n",
    "                blackWhite[i,j] = [0,0,0]\n",
    "        if int(i/width)%2 == 1:\n",
    "            if int(j/width)%2 == 0:\n",
    "                blackWhite[i,j] = [0,0,0]\n",
    "plt.show()"
   ]
  },
  {
   "cell_type": "code",
   "execution_count": null,
   "metadata": {},
   "outputs": [],
   "source": [
    "x = np.uint8([250])\n",
    "y = np.uint8([10])\n",
    "# 用 add 超過 255其數值會為 255\n",
    "print(cv2.add(x,y))\n",
    "# x+y 超過 255 會從 0 開始加\n",
    "print(x+y)\n",
    "# y-x 超過 0 會從 255 開始減\n",
    "print(y-x)\n",
    "\n",
    "print(\"Original image\")\n",
    "plt.imshow(imgMerge)\n",
    "plt.show()\n",
    "print(\"Black White image\")\n",
    "plt.imshow(blackWhite)\n",
    "plt.show()\n",
    "print(\"cv2.add function\")\n",
    "imgtest = cv2.add(blackWhite,imgMerge)\n",
    "plt.imshow(imgtest)\n",
    "plt.show()\n",
    "print(\"x+y\")\n",
    "imgtest = blackWhite+imgMerge\n",
    "plt.imshow(imgtest)\n",
    "plt.show()"
   ]
  },
  {
   "cell_type": "markdown",
   "metadata": {},
   "source": [
    "### 影像相減"
   ]
  },
  {
   "cell_type": "code",
   "execution_count": null,
   "metadata": {},
   "outputs": [],
   "source": [
    "img = cv2.imread('PIC/PictureElement.png', cv2.IMREAD_COLOR)\n",
    "imgShow = cv2.cvtColor(img, cv2.COLOR_BGR2RGB)\n",
    "print(\"Original image\")\n",
    "plt.imshow(imgShow)\n",
    "plt.show()\n",
    "\n",
    "# 合併通道\n",
    "imgMerge = np.zeros(imgShow.shape, np.uint8)\n",
    "imgMerge[:,:,0]=r\n",
    "imgMerge[:,:,1]=g\n",
    "imgMerge[:,:,2]=b\n",
    "print(\"Merge channel\")\n",
    "plt.imshow(imgMerge)\n",
    "plt.show()\n",
    "\n",
    "print(\"Original image\")\n",
    "plt.imshow(imgMerge)\n",
    "plt.show()\n",
    "print(\"Black White image\")\n",
    "plt.imshow(blackWhite)\n",
    "plt.show()\n",
    "print(\"cv2.subtract function\")\n",
    "imgtest = cv2.subtract(imgMerge,blackWhite)\n",
    "plt.imshow(imgtest)\n",
    "plt.show()\n",
    "print(\"x-y\")\n",
    "imgtest = imgMerge-blackWhite\n",
    "plt.imshow(imgtest)\n",
    "plt.show()"
   ]
  },
  {
   "cell_type": "code",
   "execution_count": null,
   "metadata": {},
   "outputs": [],
   "source": [
    "import numpy as np\n",
    "import matplotlib.pyplot as plt\n",
    "\n",
    "# 開啟原始的圖檔\n",
    "img = cv2.imread('PIC/PictureElement.png', cv2.IMREAD_GRAYSCALE)\n",
    "\n",
    "# 生成一個隨機灰階雜訊圖像(與img一樣大小)\n",
    "# noise = np.random.rand(img) * 255 #error\n",
    "\n",
    "noise = np.random.randint(0, 256,img.shape, dtype='uint8')\n",
    "\n",
    "# 將浮點數據轉換為整數\n",
    "noise = noise.astype(np.uint8)\n",
    "\n",
    "# 使用 matplotlib 顯示雜訊圖像\n",
    "plt.imshow(noise, cmap='gray')\n",
    "plt.show()"
   ]
  },
  {
   "cell_type": "markdown",
   "metadata": {},
   "source": [
    "## 圖像混和"
   ]
  },
  {
   "cell_type": "code",
   "execution_count": null,
   "metadata": {},
   "outputs": [],
   "source": [
    "alpha = 0.1\n",
    "imgWeight=cv2.addWeighted(noise,alpha,img,1-alpha,0)\n",
    "plt.imshow(imgWeight)\n",
    "plt.show()"
   ]
  },
  {
   "cell_type": "markdown",
   "metadata": {},
   "source": [
    "## OpenCV 圖像疊加小練習\n",
    "使用 OpenCV 來讀取三張圖像（紅色、綠色和藍色圖像），並將它們進行疊加，最後顯示疊加後的圖像。\n",
    "\n",
    "1. 導入 OpenCV 庫<br>\n",
    "首先，需要導入 OpenCV 庫以便於後續的圖像處理操作。\n",
    "\n",
    "2. 讀取圖像 <br>\n",
    "從文件系統中讀取三張圖像：一張紅色圖像、一張綠色圖像和一張藍色圖像。這些圖像將用於後面的疊加操作。\n",
    "\n",
    "3. 圖像疊加<br>\n",
    "首先，將紅色和綠色圖像進行疊加，然後將得到的結果與藍色圖像進行疊加。這樣就可以獲得三種顏色疊加後的圖像。\n",
    "\n",
    "4. 顯示結果<br>\n",
    "使用 OpenCV 的顯示功能，將疊加後的圖像展示在一個窗口中。\n",
    "\n",
    "5. 等待用戶輸入以結束程序<br>\n",
    "程序會等待用戶按下任意鍵，然後關閉顯示窗口並結束程序。這一步確保用戶有足夠的時間查看結果圖像。\n",
    "\n",
    "`cv2.waitKey(0)` 會使程式暫停，直到用戶按下一個鍵。<br>\n",
    "在這之後，`cv2.destroyAllWindows()` 會關閉所有 OpenCV 創建的窗口。\n",
    "\n",
    "* 注意：疊加圖像的大小和類型需要相同，否則 cv2.add 函數將會出錯。\n",
    "* 此外，疊加後的像素值會被截斷到 255 的最大值範圍內，這可能會導致一些視覺上的飽和效果。果。戶有足夠的時間查看結果圖像。一些視覺上的飽和效果。"
   ]
  },
  {
   "cell_type": "code",
   "execution_count": null,
   "metadata": {},
   "outputs": [],
   "source": [
    "import cv2\n",
    "\n",
    "img_red = cv2.imread('PIC/R.png')\n",
    "img_green = cv2.imread('PIC/G.png')\n",
    "img_blue = cv2.imread('PIC/B.png')\n",
    "\n",
    "output = cv2.add(img_red, img_green)  # 疊加紅色和綠色\n",
    "output = cv2.add(output, img_blue)    # 疊加藍色\n",
    "\n",
    "cv2.imshow('oxxostudio', output)\n",
    "\n",
    "cv2.waitKey(0)     # 按下任意鍵停止\n",
    "cv2.destroyAllWindows()"
   ]
  }
 ],
 "metadata": {
  "kernelspec": {
   "display_name": "Python 3 (ipykernel)",
   "language": "python",
   "name": "python3"
  },
  "language_info": {
   "codemirror_mode": {
    "name": "ipython",
    "version": 3
   },
   "file_extension": ".py",
   "mimetype": "text/x-python",
   "name": "python",
   "nbconvert_exporter": "python",
   "pygments_lexer": "ipython3",
   "version": "3.12.2"
  }
 },
 "nbformat": 4,
 "nbformat_minor": 4
}
