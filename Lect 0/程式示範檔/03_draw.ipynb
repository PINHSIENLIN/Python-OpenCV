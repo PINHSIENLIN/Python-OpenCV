{
 "cells": [
  {
   "cell_type": "markdown",
   "metadata": {},
   "source": [
    "# Opencv 繪圖函數\n",
    "OpenCV 提供了多種繪圖函數，可用於在圖像上繪製各種形狀、線條、文字等。<br>\n",
    "以下是一些常用的 OpenCV 繪圖函數的介紹："
   ]
  },
  {
   "cell_type": "markdown",
   "metadata": {},
   "source": [
    "## 匯入所需的套件"
   ]
  },
  {
   "cell_type": "code",
   "execution_count": null,
   "metadata": {},
   "outputs": [],
   "source": [
    "import numpy as np\n",
    "import cv2\n",
    "import matplotlib.pyplot as plt\n",
    "%matplotlib inline"
   ]
  },
  {
   "cell_type": "markdown",
   "metadata": {},
   "source": [
    "### 1. **cv2.line() - 繪製線條**\n",
    "在圖像上繪製一條線，需指定線條的起點和終點坐標、顏色以及線條的厚度\n",
    "```python\n",
    "cv2.line(image, (startX, startY), (endX, endY), color, thickness)\n",
    "```"
   ]
  },
  {
   "cell_type": "code",
   "execution_count": null,
   "metadata": {},
   "outputs": [],
   "source": [
    "img = np.zeros((512,512,3), np.uint8)\n",
    "# img = cv2.imread('data/Lenna.png', cv2.IMREAD_COLOR)\n",
    "# img = cv2.cvtColor(img, cv2.COLOR_BGR2RGB)\n",
    "plt.imshow(img)\n",
    "plt.show()\n",
    "cv2.line(img,(0,0),(511,511),(255,0,0),5)\n",
    "plt.imshow(img)\n",
    "plt.show()"
   ]
  },
  {
   "cell_type": "markdown",
   "metadata": {},
   "source": [
    "### 2. **cv2.rectangle() - 繪製矩形**\n",
    "在圖像上繪製一個矩形，需指定矩形的左上角和右下角坐標、顏色以及線條的厚度。\n",
    "```python\n",
    "cv2.rectangle(image, (topLeftX, topLeftY), (bottomRightX, bottomRightY), color, thickness)\n",
    "```"
   ]
  },
  {
   "cell_type": "markdown",
   "metadata": {},
   "source": [
    "* Tips: thickness：線條的厚度，若為 -1 或 cv2.FILLED，則填滿。"
   ]
  },
  {
   "cell_type": "code",
   "execution_count": null,
   "metadata": {},
   "outputs": [],
   "source": [
    "img = np.zeros((512,512,3), np.uint8)\n",
    "cv2.rectangle(img,(384,0),(510,128),(0,255,0),3)\n",
    "plt.imshow(img)\n",
    "plt.show()"
   ]
  },
  {
   "cell_type": "markdown",
   "metadata": {},
   "source": [
    "### 3. **cv2.circle() - 繪製圓形**\n",
    "在圖像上繪製一個圓，需指定圓心坐標、半徑、顏色以及線條的厚度\n",
    "```python\n",
    "cv2.circle(image, (centerX, centerY), radius, color, thickness)\n",
    "```"
   ]
  },
  {
   "cell_type": "code",
   "execution_count": null,
   "metadata": {},
   "outputs": [],
   "source": [
    "img = np.zeros((512,512,3), np.uint8)\n",
    "cv2.circle(img,(300,90), 50,(0,0,255), 5)\n",
    "plt.imshow(img)\n",
    "plt.show()"
   ]
  },
  {
   "cell_type": "markdown",
   "metadata": {},
   "source": [
    "### 4. **cv2.ellipse() - 繪製橢圓**\n",
    "在圖像上繪製一個橢圓。您需要指定橢圓的中心點坐標、長軸和短軸的長度、橢圓的旋轉角度、開始角度、結束角度、顏色以及線條厚度。\n",
    "```python\n",
    "cv2.ellipse(image, center, axes, angle, startAngle, endAngle, color, thickness)\n",
    "```"
   ]
  },
  {
   "cell_type": "code",
   "execution_count": null,
   "metadata": {},
   "outputs": [],
   "source": [
    "img = np.zeros((512,512,3), np.uint8)\n",
    "cv2.ellipse(img,(256,256),(50,100),-10,0,360,(255,255,0),-1)\n",
    "plt.imshow(img)\n",
    "plt.show()"
   ]
  },
  {
   "cell_type": "markdown",
   "metadata": {},
   "source": [
    "### 5. **cv2.polylines() - 繪製多邊形**\n",
    "繪製一個或多個多邊形，需指定一個包含多邊形各頂點的數組、是否閉合、顏色以及線條的厚度。\n",
    "```python\n",
    "cv2.polylines(image, [points], isClosed, color, thickness)\n",
    "```"
   ]
  },
  {
   "cell_type": "code",
   "execution_count": null,
   "metadata": {},
   "outputs": [],
   "source": [
    "img = np.zeros((512,512,3), np.uint8)\n",
    "pts = np.array([[[50,100], [300,200], [250,150], [50,420]]], dtype = np.int32)\n",
    "cv2.polylines(img, pts, 0, (0, 255, 0), 10)\n",
    "plt.imshow(img)\n",
    "plt.show()\n",
    "\n",
    "cv2.fillPoly(img, pts, (255, 0, 255))\n",
    "plt.imshow(img)\n",
    "plt.show()"
   ]
  },
  {
   "cell_type": "markdown",
   "metadata": {},
   "source": [
    "### 6. **cv2.putText() - 繪製文本**\n",
    "在圖像上繪製文本，需指定文本內容、位置、字體、字體大小、顏色、線條厚度和線型。\n"
   ]
  },
  {
   "cell_type": "code",
   "execution_count": null,
   "metadata": {},
   "outputs": [],
   "source": [
    "img = np.zeros((512,512,3), np.uint8)\n",
    "font = cv2.FONT_ITALIC\n",
    "cv2.putText(img,'OpenCV',(10,500), font, 2,(255,255,255),8)\n",
    "plt.imshow(img)\n",
    "plt.show()"
   ]
  },
  {
   "cell_type": "markdown",
   "metadata": {},
   "source": [
    "## 依照下面步驟完成圖片\n",
    "----\n",
    "1. 產生一張黑色畫布。\n",
    "```python\n",
    "np.zeros((512, 512, 3), np.uint8)\n",
    "```\n",
    "\n",
    "\n",
    "2. 先用兩條線作為背景。\n",
    "\n",
    "\n",
    "3. 繪製一個矩形框位於圖片中心附近。\n",
    "\n",
    "    (215, 215), (295, 295)\n",
    "\n",
    "\n",
    "4. 畫兩個實體圓在矩形框兩邊偏上。\n",
    "\n",
    "    (195, 235) (315, 235)\n",
    "\n",
    "\n",
    "5. 使用文字繪製，將兩句文字放置在圖片中均匀放在矩形框上下。\n",
    "    \n",
    "    \n",
    "    (144, 190) (87, 310)\n",
    "    \n",
    "\n",
    "6. 繪製一個多邊形，將文字和矩形框用一個五邊形包起來。\n",
    "    \n",
    "    \n",
    "    (260, 60) (80, 200) (100, 380) (420, 380) (440, 200)\n",
    "    (190, 340) (325, 340) (315, 370) (200, 370)\n",
    "\n",
    "![](PIC/03-1.png)"
   ]
  },
  {
   "cell_type": "code",
   "execution_count": 13,
   "metadata": {},
   "outputs": [
    {
     "data": {
      "image/png": "[encoded data removed]",
      "text/plain": [
       "<Figure size 640x480 with 1 Axes>"
      ]
     },
     "metadata": {},
     "output_type": "display_data"
    }
   ],
   "source": [
    "img=np.zeros((512,512,3), np.uint8)\n",
    "cv2.line(img,(260,0),(260,60),(255,0,0),5)\n",
    "cv2.line(img,(260,380),(260,512),(255,0,0),5)\n",
    "cv2.rectangle(img,(215, 215), (295, 295),(0,255,0),5)\n",
    "cv2.circle(img,(195, 235) , 20,(0,0,255), -1)\n",
    "cv2.circle(img,(315, 235), 20,(0,0,255), -1)\n",
    "font=cv2.FONT_ITALIC\n",
    "cv2.putText(img,'OpenCV',(87, 310), font, 1,(255,255,255),5)\n",
    "cv2.putText(img,'OpenCV',(144, 190), font, 1,(255,255,255),5)\n",
    "pts = np.array([[[260,60], [80,200], [100,380], [420,380],[440,200]]], dtype = np.int32)\n",
    "cv2.polylines(img, pts, 1, (0, 255, 0), 5)\n",
    "plt.imshow(img)\n",
    "plt.show()"
   ]
  },
  {
   "cell_type": "markdown",
   "metadata": {},
   "source": [
    "## 試著完成下方圖片\n",
    "![](PIC/03-2.png)\n",
    "\n",
    "##### 圓\n",
    "r1 = 70\n",
    "r2 = 30"
   ]
  },
  {
   "cell_type": "code",
   "execution_count": 14,
   "metadata": {},
   "outputs": [
    {
     "data": {
      "image/png": "[encoded data removed]",
      "text/plain": [
       "<Figure size 640x480 with 1 Axes>"
      ]
     },
     "metadata": {},
     "output_type": "display_data"
    }
   ],
   "source": [
    "import math\n",
    "# 試著完成下方圖片\n",
    "img = np.ones((512,512,3), np.uint8)\n",
    "#img[:]=255\n",
    "#圓\n",
    "dot_red = (256, 128)\n",
    "r1 = 70\n",
    "cv2.circle(img,(256, 128), r1,(0,0,255), 3)\n",
    "r2 = 30\n",
    "cv2.circle(img,(256, 128), r2,(255,255,0), 3)\n",
    "cv2.circle(img,(256, 128),8,(255,0,0), -1)\n",
    "\n",
    "#長方形寬高\n",
    "d = 170\n",
    "h = int(d / 2 * math.sqrt(3))\n",
    "cv2.rectangle(img,(256, 128), (256+d,128+h),(0,255,0),5)\n",
    "\n",
    "#文字(15, 450)\n",
    "cv2.putText(img,'OpenCV',(15, 450), font,4,(0,255,0),5)\n",
    "plt.imshow(img)\n",
    "plt.show()\n",
    "#<img src=\"data/CH3-draw/opencv_logo.png\" alt=\"Drawing\" style=\"width: 200px;\"/>\n"
   ]
  }
 ],
 "metadata": {
  "kernelspec": {
   "display_name": "Python 3 (ipykernel)",
   "language": "python",
   "name": "python3"
  },
  "language_info": {
   "codemirror_mode": {
    "name": "ipython",
    "version": 3
   },
   "file_extension": ".py",
   "mimetype": "text/x-python",
   "name": "python",
   "nbconvert_exporter": "python",
   "pygments_lexer": "ipython3",
   "version": "3.12.2"
  }
 },
 "nbformat": 4,
 "nbformat_minor": 4
}
