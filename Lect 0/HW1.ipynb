{
 "cells": [
  {
   "cell_type": "code",
   "execution_count": 1,
   "metadata": {},
   "outputs": [],
   "source": [
    "#| label: Import-Module\n",
    "import numpy as np\n",
    "import cv2\n",
    "from matplotlib import pyplot as plt\n",
    "#%matplotlib notebook"
   ]
  },
  {
   "cell_type": "code",
   "execution_count": 2,
   "metadata": {},
   "outputs": [],
   "source": [
    "#| label: Read-Images\n",
    "kobe = cv2.imread(\"PIC/Kobe.jpg\", cv2.IMREAD_COLOR)\n",
    "gigi = cv2.imread(\"PIC/Gigi.jpg\", cv2.IMREAD_COLOR)\n",
    "kobe_transform = cv2.cvtColor(kobe, cv2.COLOR_BGR2RGB)\n",
    "gigi_transform = cv2.cvtColor(gigi, cv2.COLOR_BGR2RGB)\n",
    "# plt.imshow(kobe_transform)\n",
    "# plt.imshow(gigi_transform)\n",
    "# plt.axis(\"off\")\n",
    "# plt.show()"
   ]
  },
  {
   "cell_type": "code",
   "execution_count": 3,
   "metadata": {},
   "outputs": [],
   "source": [
    "#| label: Extract-Gigi\n",
    "imgROI = gigi_transform[20:700, 500:835]\n",
    "kobe_transform[300:980,500:835] = imgROI\n",
    "font = cv2.FONT_ITALIC\n",
    "cv2.putText(kobe_transform,'RIP Kobe & Gigi',(400, 100), font,4,(85, 37, 130),5)\n",
    "output = cv2.cvtColor(kobe_transform,cv2.COLOR_RGB2BGR)\n",
    "# plt.imshow(kobe_transform)\n",
    "# plt.axis(\"off\")\n",
    "# plt.show()"
   ]
  },
  {
   "cell_type": "code",
   "execution_count": 4,
   "metadata": {},
   "outputs": [
    {
     "data": {
      "text/plain": [
       "True"
      ]
     },
     "execution_count": 4,
     "metadata": {},
     "output_type": "execute_result"
    }
   ],
   "source": [
    "#| label: Save-Output\n",
    "cv2.imwrite(\"Kobe&Gigi.jpg\",output)"
   ]
  }
 ],
 "metadata": {
  "kernelspec": {
   "display_name": "Python 3",
   "language": "python",
   "name": "python3"
  },
  "language_info": {
   "codemirror_mode": {
    "name": "ipython",
    "version": 3
   },
   "file_extension": ".py",
   "mimetype": "text/x-python",
   "name": "python",
   "nbconvert_exporter": "python",
   "pygments_lexer": "ipython3",
   "version": "3.12.2"
  }
 },
 "nbformat": 4,
 "nbformat_minor": 2
}
