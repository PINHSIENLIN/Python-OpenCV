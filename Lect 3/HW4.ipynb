{
 "cells": [
  {
   "cell_type": "code",
   "execution_count": 1,
   "metadata": {},
   "outputs": [],
   "source": [
    "import cv2\n",
    "import numpy as np"
   ]
  },
  {
   "cell_type": "code",
   "execution_count": 10,
   "metadata": {},
   "outputs": [
    {
     "ename": "error",
     "evalue": "OpenCV(4.9.0) /Users/xperience/GHA-OpenCV-Python2/_work/opencv-python/opencv-python/opencv/modules/imgproc/src/color.cpp:196: error: (-215:Assertion failed) !_src.empty() in function 'cvtColor'\n",
     "output_type": "error",
     "traceback": [
      "\u001b[0;31m---------------------------------------------------------------------------\u001b[0m",
      "\u001b[0;31merror\u001b[0m                                     Traceback (most recent call last)",
      "Cell \u001b[0;32mIn[10], line 11\u001b[0m\n\u001b[1;32m      9\u001b[0m \u001b[38;5;28;01mwhile\u001b[39;00m \u001b[38;5;28;01mTrue\u001b[39;00m:\n\u001b[1;32m     10\u001b[0m \tstatus, frame \u001b[38;5;241m=\u001b[39m video\u001b[38;5;241m.\u001b[39mread()\n\u001b[0;32m---> 11\u001b[0m \tgray \u001b[38;5;241m=\u001b[39m \u001b[43mcv2\u001b[49m\u001b[38;5;241;43m.\u001b[39;49m\u001b[43mcvtColor\u001b[49m\u001b[43m(\u001b[49m\u001b[43mframe\u001b[49m\u001b[43m,\u001b[49m\u001b[43mcv2\u001b[49m\u001b[38;5;241;43m.\u001b[39;49m\u001b[43mCOLOR_BGR2GRAY\u001b[49m\u001b[43m)\u001b[49m\n\u001b[1;32m     12\u001b[0m \tgray \u001b[38;5;241m=\u001b[39m cv2\u001b[38;5;241m.\u001b[39mGaussianBlur(gray,(\u001b[38;5;241m21\u001b[39m,\u001b[38;5;241m21\u001b[39m), \u001b[38;5;241m0\u001b[39m)\n\u001b[1;32m     13\u001b[0m     \u001b[38;5;66;03m# computing the absolute difference between the background and the current frame is a crucial step in motion detection \u001b[39;00m\n\u001b[1;32m     14\u001b[0m     \u001b[38;5;66;03m# and helps to identify regions of interest where motion is occurring within a scene\u001b[39;00m\n",
      "\u001b[0;31merror\u001b[0m: OpenCV(4.9.0) /Users/xperience/GHA-OpenCV-Python2/_work/opencv-python/opencv-python/opencv/modules/imgproc/src/color.cpp:196: error: (-215:Assertion failed) !_src.empty() in function 'cvtColor'\n"
     ]
    },
    {
     "ename": "",
     "evalue": "",
     "output_type": "error",
     "traceback": [
      "\u001b[1;31mThe Kernel crashed while executing code in the current cell or a previous cell. \n",
      "\u001b[1;31mPlease review the code in the cell(s) to identify a possible cause of the failure. \n",
      "\u001b[1;31mClick <a href='https://aka.ms/vscodeJupyterKernelCrash'>here</a> for more info. \n",
      "\u001b[1;31mView Jupyter <a href='command:jupyter.viewOutput'>log</a> for further details."
     ]
    }
   ],
   "source": [
    "background = cv2.imread(\"data/background.png\")\n",
    "# Convert BGR to Grayscale\n",
    "background = cv2.cvtColor(background,cv2.COLOR_BGR2GRAY)\n",
    "# Smoothing to reduce noise by specifying 21*21 kernel and sigma set to zrio\n",
    "background = cv2.GaussianBlur(background,(21,21),0)\n",
    "\n",
    "video = cv2.VideoCapture(\"data/surveillance.avi\")\n",
    "\n",
    "while True:\n",
    "\tstatus, frame = video.read()\n",
    "\tgray = cv2.cvtColor(frame,cv2.COLOR_BGR2GRAY)\n",
    "\tgray = cv2.GaussianBlur(gray,(21,21), 0)\n",
    "    # computing the absolute difference between the background and the current frame is a crucial step in motion detection \n",
    "    # and helps to identify regions of interest where motion is occurring within a scene\n",
    "\tdiff = cv2.absdiff(background,gray)\n",
    "    # Create the binary image\n",
    "\tret, thresh = cv2.threshold(diff,30,255,cv2.THRESH_BINARY)\n",
    "\t# Dilate\n",
    "\tthresh = cv2.dilate(thresh, None, iterations = 1)\n",
    "    # Find Contours\n",
    "\tcnts, res = cv2.findContours(thresh, cv2.RETR_EXTERNAL, cv2.CHAIN_APPROX_SIMPLE)\n",
    "\n",
    "\tfor contour in cnts:\n",
    "\t\tif cv2.contourArea(contour) < 5000 :\n",
    "\t\t\tcontinue\n",
    "\t\t(x,y,w,h) = cv2.boundingRect(contour)\n",
    "\t\tcv2.rectangle(frame,(x,y),(x+w,y+h),(0,0,255), 3)\n",
    "\n",
    "\tcv2.imshow(\"Surveillance Camera\",frame)\n",
    "\n",
    "\tkey = cv2.waitKey(15)\n",
    "\tif key == ord('q'):\n",
    "\t\tbreak\n",
    "\n",
    "video.release()\n",
    "cv2.destroyWindows()"
   ]
  }
 ],
 "metadata": {
  "kernelspec": {
   "display_name": "Python 3",
   "language": "python",
   "name": "python3"
  },
  "language_info": {
   "codemirror_mode": {
    "name": "ipython",
    "version": 3
   },
   "file_extension": ".py",
   "mimetype": "text/x-python",
   "name": "python",
   "nbconvert_exporter": "python",
   "pygments_lexer": "ipython3",
   "version": "3.12.2"
  }
 },
 "nbformat": 4,
 "nbformat_minor": 2
}
