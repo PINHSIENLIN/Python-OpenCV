{
 "cells": [
  {
   "attachments": {},
   "cell_type": "markdown",
   "metadata": {},
   "source": [
    "# Haar cascades\n",
    "> 基於Haar的cascade分類器來實現人臉識別\n",
    "\n",
    "<img src=\"data/FD.png\" width=\"200\" height=\"100\">"
   ]
  },
  {
   "cell_type": "code",
   "execution_count": null,
   "metadata": {},
   "outputs": [],
   "source": [
    "import numpy as np\n",
    "import cv2\n",
    "%matplotlib inline\n",
    "import matplotlib.pyplot as plt"
   ]
  },
  {
   "cell_type": "markdown",
   "metadata": {},
   "source": [
    "# Face and eyes"
   ]
  },
  {
   "cell_type": "code",
   "execution_count": null,
   "metadata": {},
   "outputs": [],
   "source": [
    "face_cascade = cv2.CascadeClassifier('haarcascades/haarcascade_frontalface_default.xml')\n",
    "eye_cascade = cv2.CascadeClassifier('haarcascades/haarcascade_eye.xml')\n",
    "\n",
    "img = cv2.imread('data/lena.jpg')\n",
    "\n",
    "imgShow = cv2.cvtColor(img, cv2.COLOR_BGR2RGB)\n",
    "gray = cv2.cvtColor(img, cv2.COLOR_BGR2GRAY)\n",
    "faces = face_cascade.detectMultiScale(gray,scaleFactor = 1.2, minNeighbors = 3)\n",
    "for (x,y,w,h) in faces:\n",
    "    roi_gray = gray[y:y + h, x:x + w]\n",
    "    imgShow = cv2.rectangle(imgShow, (x,y), (x + w,y + h), (255,0,0),2)\n",
    "    eyes = eye_cascade.detectMultiScale(roi_gray,scaleFactor = 1.2, minNeighbors = 3, minSize = (40,40))\n",
    "    for (ex,ey,ew,eh) in eyes:\n",
    "        imgShow = cv2.rectangle(imgShow,(x + ex,y + ey), (x + ex + ew,y + ey + eh), (0,255,0), 2)\n",
    "\n",
    "plt.axis(\"off\")\n",
    "plt.imshow(imgShow)\n",
    "plt.show()"
   ]
  },
  {
   "cell_type": "markdown",
   "metadata": {},
   "source": [
    "# Face and eyes with camera or vedio"
   ]
  },
  {
   "cell_type": "code",
   "execution_count": null,
   "metadata": {},
   "outputs": [],
   "source": [
    "face_cascade = cv2.CascadeClassifier('haarcascades/haarcascade_frontalface_default.xml')\n",
    "eye_cascade = cv2.CascadeClassifier('haarcascades/haarcascade_eye.xml')\n",
    "cap = cv2.VideoCapture(0)\n",
    "while(cap.isOpened()):\n",
    "    ret, img = cap.read()\n",
    "    if ret==True:\n",
    "        gray = cv2.cvtColor(img, cv2.COLOR_BGR2GRAY)\n",
    "        faces = face_cascade.detectMultiScale(gray,scaleFactor=1.2,minNeighbors=3)\n",
    "        for (x,y,w,h) in faces:\n",
    "            roi_gray = gray[y:y+h, x:x+w]\n",
    "            img = cv2.rectangle(img,(x,y),(x+w,y+h),(255,0,0),2)\n",
    "            eyes = eye_cascade.detectMultiScale(roi_gray,scaleFactor=1.2,minNeighbors=3,minSize=(40,40))\n",
    "            for (ex,ey,ew,eh) in eyes:\n",
    "                img = cv2.rectangle(img,(x+ex,y+ey),(x+ex+ew,y+ey+eh),(0,255,0),2)\n",
    "        # Display the resulting frame\n",
    "        cv2.imshow('frame',img)\n",
    "        if cv2.waitKey(10) & 0xFF == ord('q'):\n",
    "            cap.release()\n",
    "            break\n",
    "    else:\n",
    "        print(\"No video\")\n",
    "        cap.release()\n",
    "        cv2.destroyAllWindows()\n",
    "        quit()\n",
    "    # When everything done, release the capture\n",
    "cap.release()\n",
    "cv2.destroyAllWindows()"
   ]
  },
  {
   "cell_type": "markdown",
   "metadata": {},
   "source": [
    "# 練習 - 辨識人臉自動偵測到是否配戴口罩\n",
    "\n",
    "### step1.辨認出人臉位置，用`綠框`標示\n",
    "### step2. 依據是否有出現鼻子或嘴巴作為判斷依據\n",
    "### step3. 偵測到無配戴口罩時，用`紅框`標示"
   ]
  },
  {
   "cell_type": "code",
   "execution_count": null,
   "metadata": {},
   "outputs": [],
   "source": [
    "import numpy as np\n",
    "import cv2\n",
    "%matplotlib inline\n",
    "import matplotlib.pyplot as plt\n",
    "face_cascade = cv2.CascadeClassifier('haarcascades/haarcascade_frontalface_default.xml')\n",
    "nose_cascade = cv2.CascadeClassifier('haarcascades/nose.xml')\n",
    "cap = cv2.VideoCapture('data/output.avi')\n",
    "while(cap.isOpened()):\n",
    "    ret, img = cap.read()\n",
    "    if ret == True:\n",
    "        color = (0,255,0)\n",
    "        gray = cv2.cvtColor(img, cv2.COLOR_BGR2GRAY)\n",
    "        faces = face_cascade.detectMultiScale(gray,scaleFactor = 1.2, minNeighbors = 5)\n",
    "        nose = nose_cascade.detectMultiScale(gray,scaleFactor = 1.2, minNeighbors = 3, minSize = (40,40))\n",
    "   \n",
    "        if (len(nose)!=0):\n",
    "             color = (0,0,255)\n",
    "        for (x,y,w,h) in faces:\n",
    "            roi_gray = gray[y:y+h, x:x+w]\n",
    "            img = cv2.rectangle(img,(x,y),(x+w,y+h),color,2)\n",
    "        # Display the resulting frame\n",
    "        cv2.imshow('frame',img)\n",
    "        if cv2.waitKey(1) & 0xFF == ord('q'):\n",
    "            cap.release()\n",
    "            break\n",
    "    else:\n",
    "        print(\"No video\")\n",
    "        cap.release()\n",
    "        cv2.destroyAllWindows()\n",
    "    # When everything done, release the capture\n",
    "cap.release()\n",
    "cv2.destroyAllWindows()"
   ]
  }
 ],
 "metadata": {
  "kernelspec": {
   "display_name": "Python 3 (ipykernel)",
   "language": "python",
   "name": "python3"
  },
  "language_info": {
   "codemirror_mode": {
    "name": "ipython",
    "version": 3
   },
   "file_extension": ".py",
   "mimetype": "text/x-python",
   "name": "python",
   "nbconvert_exporter": "python",
   "pygments_lexer": "ipython3",
   "version": "3.12.2"
  }
 },
 "nbformat": 4,
 "nbformat_minor": 4
}
