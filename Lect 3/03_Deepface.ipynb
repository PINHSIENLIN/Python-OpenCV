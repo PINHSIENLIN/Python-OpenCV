{
 "cells": [
  {
   "cell_type": "markdown",
   "id": "267545f4-54a8-4bef-af4c-1bfaf2e932f1",
   "metadata": {},
   "source": [
    "# Deepface\n",
    "## 介紹\n",
    "```\n",
    "Deepface 由 Facebook AI research group於 2015 年開源，是一套功能完整且易於上手的臉部識別/特徵分析Python framework，核心模型使用Tensorflow/Keras訓練，整合了多種目前業界流行的人臉識別模型，如VGG-Face、Google Facenet、ArcFace…等等。目前Facebook便是使用DeepFace，作為人員身份鑑別及反冒充使用\n",
    "Deepface是完全開源的程式碼，可以應用於個人及商業的環境並加以修改，且無任何侵權的疑慮\n",
    "```\n",
    "\n",
    "\n",
    "## 安裝\n",
    "由於Deepface是基於Tensorflow/Keras + Python所開發，因此它的安裝相當容易，不需要額外的C, C++編譯及套件安裝\n",
    "> pip install deepface<br>\n",
    "> pip install tf-keras\n",
    "\n",
    "## 匯入模組\n",
    "```\n",
    "from deepface import DeepFace\n",
    "```"
   ]
  },
  {
   "cell_type": "code",
   "execution_count": null,
   "id": "3defb1fd-5e01-4c79-a842-6b8111b40022",
   "metadata": {},
   "outputs": [],
   "source": [
    "import cv2\n",
    "import numpy as np\n",
    "from deepface import DeepFace"
   ]
  },
  {
   "cell_type": "code",
   "execution_count": null,
   "id": "16df81b6-8b70-4429-b59c-b7da6c39c29b",
   "metadata": {},
   "outputs": [],
   "source": [
    "img = cv2.imread('data/mona.jpg')\n",
    "try:\n",
    "    emotion = DeepFace.analyze(img, actions=['emotion'])  # 情緒\n",
    "    age = DeepFace.analyze(img, actions=['age'])          # 年齡\n",
    "    race = DeepFace.analyze(img, actions=['race'])        # 人種\n",
    "    gender = DeepFace.analyze(img, actions=['gender'])    # 性別\n",
    "    \n",
    "except:\n",
    "    pass\n",
    "\n",
    "cv2.imshow('Faical details', img)\n",
    "cv2.waitKey(0)\n",
    "cv2.destroyAllWindows()\n",
    "print(\"情緒:\", emotion[0]['dominant_emotion'])\n",
    "print(\"年齡:\", age[0]['age'])\n",
    "print(\"人種:\", race[0]['dominant_race'])\n",
    "print(\"性別:\", gender[0]['dominant_gender'])"
   ]
  },
  {
   "cell_type": "code",
   "execution_count": 5,
   "id": "7d3bfdb0-85fa-487b-9343-4e874c842dc5",
   "metadata": {},
   "outputs": [],
   "source": [
    "img_path = cv2.imread('data/lena.jpg')\n",
    "\n",
    "# 定義該情緒的中文字\n",
    "text_obj={\n",
    "    'angry': '生氣',\n",
    "    'disgust': '噁心',\n",
    "    'fear': '害怕',\n",
    "    'happy': '開心',\n",
    "    'sad': '難過',\n",
    "    'surprise': '驚訝',\n",
    "    'neutral': '正常'\n",
    "}\n",
    "\n",
    "if img is None:\n",
    "    print(\"Error: Unable to load image.\")\n",
    "else:\n",
    "    try:\n",
    "        # 使用DeepFace分析圖像，一次呼叫即可獲取所有需要的資訊\n",
    "        analyses = DeepFace.analyze(img_path = img_path, actions = ['age', 'gender', 'race', 'emotion'])\n",
    "        \n",
    "        # 顯示結果\n",
    "        print(\"Dominant Emotion: \", text_obj[analyses[0]['dominant_emotion']])\n",
    "        print(\"Age: \", analyses[0]['age'])\n",
    "        print(\"Dominant Race: \", analyses[0]['dominant_race'])\n",
    "        print(\"Gender: \", analyses[0]['dominant_gender'])\n",
    "        \n",
    "        # 顯示圖像\n",
    "        cv2.imshow('Facial Details', img)\n",
    "        cv2.waitKey(0)\n",
    "        cv2.destroyAllWindows()\n",
    "        \n",
    "    except Exception as e:\n",
    "        print(f\"An error occurred: {e}\")"
   ]
  },
  {
   "cell_type": "code",
   "execution_count": null,
   "id": "344c2362-5c34-4730-bdc7-c6e997d8c701",
   "metadata": {},
   "outputs": [],
   "source": [
    "import cv2\n",
    "from deepface import DeepFace\n",
    "import numpy as np\n",
    "\n",
    "cap = cv2.VideoCapture(0)\n",
    "\n",
    "if not cap.isOpened():\n",
    "    print(\"Cannot open camera\")\n",
    "    exit()\n",
    "while True:\n",
    "    ret, frame = cap.read()\n",
    "    if not ret:\n",
    "        print(\"Cannot receive frame\")\n",
    "        break\n",
    "    img = cv2.resize(frame,(384,240))\n",
    "    try:\n",
    "        analyze = DeepFace.analyze(img, actions=['age'])\n",
    "        emotion = str(analyze[0]['age'])  # 取得文字\n",
    "        cv2.putText(img, emotion, (30,100), cv2.FONT_ITALIC, 1, (200,100,10), 1, cv2.LINE_AA)                 # 放入文字\n",
    "    except:\n",
    "        pass\n",
    "    cv2.imshow('XXX detection', img)\n",
    "    if cv2.waitKey(5) == ord('q'):\n",
    "        break\n",
    "cap.release()\n",
    "cv2.destroyAllWindows()"
   ]
  },
  {
   "cell_type": "markdown",
   "id": "5dfe27ef-e0e0-4f8c-bebf-9699eeecab39",
   "metadata": {},
   "source": []
  }
 ],
 "metadata": {
  "kernelspec": {
   "display_name": "Python 3 (ipykernel)",
   "language": "python",
   "name": "python3"
  },
  "language_info": {
   "codemirror_mode": {
    "name": "ipython",
    "version": 3
   },
   "file_extension": ".py",
   "mimetype": "text/x-python",
   "name": "python",
   "nbconvert_exporter": "python",
   "pygments_lexer": "ipython3",
   "version": "3.12.2"
  }
 },
 "nbformat": 4,
 "nbformat_minor": 5
}
