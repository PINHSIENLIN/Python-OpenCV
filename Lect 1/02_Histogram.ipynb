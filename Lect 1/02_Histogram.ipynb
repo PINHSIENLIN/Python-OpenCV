{
 "cells": [
  {
   "cell_type": "markdown",
   "id": "aae0be91-32d3-4498-ba95-ce893f2f18bc",
   "metadata": {},
   "source": [
    "# matplotlib 計算灰階顏色的分佈圖"
   ]
  },
  {
   "cell_type": "code",
   "execution_count": null,
   "id": "75165a16-dba3-4b02-bb66-71c1f2dacf8e",
   "metadata": {},
   "outputs": [],
   "source": [
    "import cv2 as cv\n",
    "import matplotlib.pyplot as plt\n",
    "\n",
    "# 讀取圖檔\n",
    "img = cv.imread(\"data/lena.png\")\n",
    "cv.imshow(\"img\", img)\n",
    "cv.waitKey(0)\n",
    "cv.destroyAllWindows()\n",
    "\n",
    "# 轉為灰階圖片\n",
    "gray = cv.cvtColor(img, cv.COLOR_BGR2GRAY)\n",
    "\n",
    "# 畫出直方圖\n",
    "plt.hist(gray.ravel(), 256, [0, 256])\n",
    "plt.show()"
   ]
  },
  {
   "cell_type": "markdown",
   "id": "dc424627-f6ef-400f-928b-b8b7b66842c8",
   "metadata": {},
   "source": [
    "# opecnv 計算灰階顏色的分佈圖\n",
    "### 計算直方圖的函式 \n",
    "###　`cv2.calcHist(images, channels, mask, histSize, ranges)`\n",
    "\n",
    "* images：處理的圖像，放在一個列表中<br>\n",
    "* channels：用來計算直方圖的通道索引，在這裡 [0] 指的是灰度圖像或彩色圖像的第一個通道\n",
    "* mask：選擇性參數，用於計算部分圖像的直方圖，這裡未使用（None）\n",
    "* histSize：每個維度的直方圖尺寸，這裡 [256] 表示每個通道有 256 個可能的像素值\n",
    "* ranges：像素值範圍，這裡是 [0.0, 255.0]<br>"
   ]
  },
  {
   "cell_type": "code",
   "execution_count": null,
   "id": "914d24a9-6145-4830-a8ee-e0de16f0e649",
   "metadata": {},
   "outputs": [],
   "source": [
    "import cv2\n",
    "import numpy as np\n",
    "import matplotlib.pyplot as plt\n",
    "\n",
    "img = cv2.imread('data/lena.png')\n",
    "#畫出灰階分布圖\n",
    "gray = cv2.cvtColor(img, cv2.COLOR_BGR2GRAY)\n",
    "histr = cv2.calcHist([gray] ,[0],None,[256],[0, 256])\n",
    "\n",
    "plt.plot(histr)\n",
    "plt.xlim([0, 256])\n",
    "plt.show()\n"
   ]
  },
  {
   "cell_type": "markdown",
   "id": "a0675dc5-5290-4f55-9f61-bd4f6686240f",
   "metadata": {},
   "source": [
    "# matplotlib 畫出RGB三種顏色的分佈圖"
   ]
  },
  {
   "cell_type": "code",
   "execution_count": null,
   "id": "1b59ec45-7635-43b3-9328-3532e739635f",
   "metadata": {},
   "outputs": [],
   "source": [
    "import cv2\n",
    "import numpy as np\n",
    "import matplotlib.pyplot as plt\n",
    "\n",
    "img = cv2.imread('data/lena.png')\n",
    "\n",
    "# 畫出 RGB 三種顏色的分佈圖\n",
    "color = ('b','g','r')\n",
    "for i, col in enumerate(color):\n",
    "    plt.hist(img[:,:,i].ravel(), 256, [0, 256],color = col)\n",
    "    plt.xlim([0, 256])\n",
    "plt.show()"
   ]
  },
  {
   "cell_type": "markdown",
   "id": "b2b67b72-3f13-4145-b0f5-c41e0cc0b117",
   "metadata": {},
   "source": [
    "# 自訂繪製RGB三種顏色分佈圖方法"
   ]
  },
  {
   "cell_type": "code",
   "execution_count": null,
   "id": "a22ff7bb-ad98-4d4d-b181-1f2f334ddea7",
   "metadata": {},
   "outputs": [],
   "source": [
    "import cv2    \n",
    "import numpy as np    \n",
    "    \n",
    "def calcAndDrawHist(image, color):  \n",
    "    hist= cv2.calcHist([image], [0], None, [256], [0.0,255.0])  \n",
    "    minVal, maxVal, minLoc, maxLoc = cv2.minMaxLoc(hist)  \n",
    "    histImg = np.zeros([256,256,3], np.uint8)\n",
    "    #長條圖的範圍限定在0-255×0.9之間  \n",
    "    hpt = int(0.9 * 256)\n",
    "      \n",
    "    for h in range(256):\n",
    "        # 計算長條圖的最大值再乘以一個係數 \n",
    "        intensity = int(hist[h]*hpt/maxVal)\n",
    "        cv2.line(histImg,(h,256), (h,256-intensity), color)\n",
    "    '''\n",
    "    繪製線\n",
    "    histImg --   圖像\n",
    "    (h,256)  --  線段的第一個端點\n",
    "    (h,256-intensity)  --  線段的第二個端點\n",
    "    color  --  線段的顏色\n",
    "    ''' \n",
    "          \n",
    "    return histImg\n",
    "\n",
    "\n",
    "img = cv2.imread(\"data/lena.png\")  \n",
    "b, g, r = cv2.split(img)\n",
    "cv2.imshow(\"B\", b) \n",
    "cv2.imshow(\"G\", g)\n",
    "cv2.imshow(\"R\", r) \n",
    "\n",
    "histImgB = calcAndDrawHist(b, [255, 0, 0])  \n",
    "histImgG = calcAndDrawHist(g, [0, 255, 0])  \n",
    "histImgR = calcAndDrawHist(r, [0, 0, 255])  \n",
    "  \n",
    "cv2.imshow(\"histImgB\", histImgB)  \n",
    "cv2.imshow(\"histImgG\", histImgG)  \n",
    "cv2.imshow(\"histImgR\", histImgR)  \n",
    "cv2.imshow(\"Img\", img)  \n",
    "cv2.waitKey(0)  \n",
    "cv2.destroyAllWindows()\n"
   ]
  },
  {
   "cell_type": "markdown",
   "id": "ec28402b-8de6-4dd4-a2a1-0b51b66b8a0f",
   "metadata": {},
   "source": [
    "# ChatGPT AI輔助導師\n",
    "\n",
    "> 請將  [程式碼]  精簡化並且詳細列出修改的地方與方向，請以繁體中文回答。"
   ]
  },
  {
   "cell_type": "code",
   "execution_count": null,
   "id": "7721c213-80fd-48ad-b54d-ada07ffc4964",
   "metadata": {},
   "outputs": [],
   "source": [
    "import cv2\n",
    "import numpy as np\n",
    "\n",
    "def calcAndDrawHist(image, color):\n",
    "    hist = cv2.calcHist([image], [0], None, [256], [0, 255])\n",
    "    histImg = np.zeros((256, 256, 3), np.uint8)\n",
    "    cv2.normalize(hist, hist, 0, 255 * 0.9, cv2.NORM_MINMAX)\n",
    "    for x, y in enumerate(hist):\n",
    "        cv2.line(histImg, (x, 256), (x, 256 - int(y)), color)\n",
    "    return histImg\n",
    "\n",
    "# 載入影像並分割成 BGR 通道\n",
    "img = cv2.imread(\"img2/lena.png\")\n",
    "channels = cv2.split(img)\n",
    "\n",
    "# 顏色設定\n",
    "colors = [(255, 0, 0), (0, 255, 0), (0, 0, 255)]\n",
    "channel_names = ['B', 'G', 'R']\n",
    "\n",
    "# 繪製每個通道的直方圖\n",
    "for (chan, color, name) in zip(channels, colors, channel_names):\n",
    "    histImg = calcAndDrawHist(chan, color)\n",
    "    cv2.imshow(f\"{name} channel\", chan)\n",
    "    cv2.imshow(f\"{name} Histogram\", histImg)\n",
    "\n",
    "cv2.imshow(\"Original Image\", img)\n",
    "cv2.waitKey(0)\n",
    "cv2.destroyAllWindows()"
   ]
  }
 ],
 "metadata": {
  "kernelspec": {
   "display_name": "Python 3 (ipykernel)",
   "language": "python",
   "name": "python3"
  },
  "language_info": {
   "codemirror_mode": {
    "name": "ipython",
    "version": 3
   },
   "file_extension": ".py",
   "mimetype": "text/x-python",
   "name": "python",
   "nbconvert_exporter": "python",
   "pygments_lexer": "ipython3",
   "version": "3.12.2"
  }
 },
 "nbformat": 4,
 "nbformat_minor": 5
}
