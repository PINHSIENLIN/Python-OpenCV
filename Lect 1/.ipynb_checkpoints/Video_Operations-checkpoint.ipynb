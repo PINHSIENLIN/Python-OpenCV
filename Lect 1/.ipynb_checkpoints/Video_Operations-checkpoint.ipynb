{
 "cells": [
  {
   "cell_type": "markdown",
   "id": "76830b79-e1f4-42cb-b14c-763a7715ef3d",
   "metadata": {},
   "source": [
    "# 使用 OpenCV 在 Python 中處理影片和即時攝影機影像\n",
    "\n",
    "### 攝影機初始化：`cv2.VideoCapture`\n",
    "> cap = cv2.VideoCapture(filename或index)\n",
    "\n",
    "VideCapture裡面的index或filename\n",
    "* index：當傳遞一個整數值（例如0、1、2等）給 cv2.VideoCapture 時，它代表攝影機的ID<br>\n",
    "用來啟動預設的攝影機設備。數字 0 指的是系統中的第一個攝影機<br>\n",
    "如果你有多個攝影機，則可以透過增加 index 的數字來選擇其他攝影機<br>\r",
    "* \n",
    "filename：也可以傳遞一個字串值至，指位置讀取影片<br>\n",
    "這可以影片件的路徑，或者是網攝影機體的UR<br>。影機<br>\n",
    "\n",
    "### 影片錄製設定與寫入：`cv2.VideoWriter`\n",
    ">\n",
    "\n",
    "fourcc 是一種視頻編碼格式，cv2.VideoWriter_fourcc(*'XVID') 指定使用 XVID 編解碼器<br>\n",
    "cv2.VideoWriter 用來創建一個視頻寫入器對象，設定輸出文件名、編解碼器、幀率和解析度<br>"
   ]
  },
  {
   "cell_type": "markdown",
   "id": "2f70f16e-2356-410c-9154-e4617fcc8a85",
   "metadata": {},
   "source": [
    "# Capture and display the  real-time video"
   ]
  },
  {
   "cell_type": "code",
   "execution_count": null,
   "id": "bad5dcb5-a758-4481-85ef-6e98ac75fc40",
   "metadata": {},
   "outputs": [],
   "source": [
    "\r\n",
    "import cv2\r\n",
    "\r\n",
    "# Create a VideoCapture object to capture the video from the in-built camera\r\n",
    "cap = cv2.VideoCapture(0) # 0 represents the in-built camera (It can also be changed to the name of a video file or other camera)\r\n",
    "## VideCapture裡面的序號 \r\n",
    "#   0 : 默認為筆記本上的攝像頭(如果有的話) / USB攝像頭 webcam \r\n",
    "#   1 : USB攝像頭2 \r\n",
    "#   2 ：USB攝像頭\r\n",
    "#   3 以此類推 \r\n",
    "#  -1：代表最新插入的USB設備\r\n",
    "\r\n",
    "while(True):\r\n",
    "    # Capture frame-by-frame\r\n",
    "    ret, frame  = cap.read() #ret is boolean value (True for frame reading correctly otherwise False)\r\n",
    "\r\n",
    "    # Operations on the frame\r\n",
    "    ori = cv2.cvtColor(frame, cv2.IMREAD_COLOR)\r\n",
    "    # Change the video into black and grey\r\n",
    "    gray = cv2.cvtColor(frame, cv2.COLOR_BGR2GRAY)\r\n",
    "    # 只擷取綠色顏色通道並及時顯示在影片上\r\n",
    "    \r\n",
    "    \r\n",
    "    # Display the resulting frame\r\n",
    "    cv2.imshow('frame',ori) \r\n",
    "    if cv2.waitKey(1) & 0xFF == ord('q'): \r\n",
    "        break\r\n",
    "\r\n",
    "# When everything done, release the capture\r\n",
    "cap.release()\r\n",
    "cv2.destroyAllWindows()\r\n"
   ]
  },
  {
   "cell_type": "markdown",
   "id": "41111f5a-2c10-43fb-8961-9f88d573ddd6",
   "metadata": {},
   "source": [
    "# Saving the video"
   ]
  },
  {
   "cell_type": "code",
   "execution_count": null,
   "id": "e9bf4e0a-9104-421f-8aed-77538f04895c",
   "metadata": {},
   "outputs": [],
   "source": [
    "import cv2\n",
    "\n",
    "cap = cv2.VideoCapture(0) # Reading from the in-built camera\n",
    "\n",
    "# Define the codec and create VideoWriter object\n",
    "fourcc = cv2.VideoWriter_fourcc(*'XVID')\n",
    "#fourcc_mp4 = cv2.VideoWriter_fourcc('m','p','4','v')\n",
    "\n",
    "out = cv2.VideoWriter('output.avi',fourcc, 20.0, (640,480)) \n",
    "# Saving the recorded video into avi file type name output\n",
    "\n",
    "while(cap.isOpened()):\n",
    "    ret, frame = cap.read()\n",
    "    if ret==True:\n",
    "        \n",
    "        #flip the frame of the video\n",
    "        #frame = cv2.flip(frame,0)\n",
    "\n",
    "        # write the flipped frame\n",
    "        out.write(frame)\n",
    "        #show the recorded video to the user\n",
    "        cv2.imshow('frame',frame)\n",
    "        if cv2.waitKey(1) & 0xFF == ord('q'):\n",
    "            break\n",
    "    else:\n",
    "        break\n",
    "\n",
    "# Release everything if job is finished\n",
    "cap.release()\n",
    "out.release()\n",
    "cv2.destroyAllWindows()\n"
   ]
  },
  {
   "cell_type": "markdown",
   "id": "bf454669-5535-476e-b5c1-ef37ae9dba2a",
   "metadata": {},
   "source": [
    "# Playing video from file "
   ]
  },
  {
   "cell_type": "code",
   "execution_count": null,
   "id": "0a589aa4-9612-434e-aae9-601c7d0a8cb8",
   "metadata": {},
   "outputs": [],
   "source": [
    "import cv2\n",
    "\n",
    "cap = cv2.VideoCapture('output.avi') \n",
    "\n",
    "waitTime = 1\n",
    "if cap.get(5) != 0:\n",
    "    waitTime = int(1000.0 / cap.get(5))\n",
    "# 以迴圈從影片檔案讀取影格，並顯示出來\n",
    "while cap.isOpened():\n",
    "    ret, frame = cap.read()\n",
    "    if frame is None:\n",
    "        break\n",
    "    else:\n",
    "        cv2.imshow(\"output.avi\", frame)\n",
    "        k = cv2.waitKey(waitTime) & 0xFF\n",
    "        if k == 27:\n",
    "            break\n",
    "\n",
    "cap.release()\n",
    "cv2.destroyAllWindows()"
   ]
  },
  {
   "cell_type": "markdown",
   "id": "044aae7a-0bb9-4d5a-984f-a7e7f83b270e",
   "metadata": {},
   "source": [
    "# Saving Frames from video"
   ]
  },
  {
   "cell_type": "code",
   "execution_count": null,
   "id": "980eef5c-1e99-4d23-8778-3d16e47ff222",
   "metadata": {},
   "outputs": [],
   "source": [
    "import cv2\n",
    "import os \n",
    "\n",
    "video_file_name='output' # The name of the video file\n",
    "vidcap = cv2.VideoCapture(video_file_name+'.avi') # The default type of the video is avi (can be changed)\n",
    "success,image = vidcap.read() # Success will be True if the video can be read\n",
    "\n",
    "if success:\n",
    "    if not os.path.exists(video_file_name): # Check if there exist a directory(folder) to save the files converted from the video\n",
    "        os.makedirs(video_file_name) # If there is no existing direcctory to save the files converted from the video, creat one \n",
    "count = 0\n",
    "\n",
    "while success:\n",
    "    success,image = vidcap.read()\n",
    "    #print((image is None) == True)\n",
    "    #cv2.imwrite(video_file_name+\"\\\\frame%d.jpg\" % count, image)\n",
    "   \n",
    "    #print((image is None) == True)\n",
    "    if (image is None) == False:\n",
    "        cv2.imwrite(video_file_name+\"\\\\frame%d.jpg\" % count, image)# Save frame as JPEG file into the directory\n",
    "    else:\n",
    "        break\n",
    "\n",
    "    if cv2.waitKey(10) == 27: # Exit if Escape is hit\n",
    "        break\n",
    "    count += 1\n"
   ]
  },
  {
   "cell_type": "markdown",
   "id": "29e6b3a0-6b4c-4958-8fb9-37536b5dace8",
   "metadata": {},
   "source": [
    "# Vedio Info"
   ]
  },
  {
   "cell_type": "code",
   "execution_count": null,
   "id": "c0112b86-74c5-418b-b4be-2f39bfe5658f",
   "metadata": {},
   "outputs": [],
   "source": [
    "import cv2\n",
    "\n",
    "cap = cv2.VideoCapture(0)\n",
    "\n",
    "# 解析 Fourcc 格式資料的函數\n",
    "def decode_fourcc(v):\n",
    "  v = int(v)\n",
    "  return \"\".join([chr((v >> 8 * i) & 0xFF) for i in range(4)])\n",
    "\n",
    "# 取得影像的尺寸大小\n",
    "width = cap.get(cv2.CAP_PROP_FRAME_WIDTH)\n",
    "height = cap.get(cv2.CAP_PROP_FRAME_HEIGHT)\n",
    "print(\"Image Size: %d x %d\" % (width, height))\n",
    "\n",
    "# 取得 Codec 名稱\n",
    "fourcc = cap.get(cv2.CAP_PROP_FOURCC)\n",
    "codec = decode_fourcc(fourcc)\n",
    "print(\"Codec: \" + codec)\n",
    "\n",
    "\n",
    "# 設定影像的尺寸大小\n",
    "cap.set(cv2.CAP_PROP_FRAME_WIDTH, 320)\n",
    "cap.set(cv2.CAP_PROP_FRAME_HEIGHT, 240)\n",
    "\n",
    "while(True):\n",
    "  ret, frame = cap.read()\n",
    "  cv2.imshow('frame', frame)\n",
    "  if cv2.waitKey(1) & 0xFF == ord('q'):\n",
    "    break\n",
    "\n",
    "cap.release()\n",
    "cv2.destroyAllWindows()"
   ]
  }
 ],
 "metadata": {
  "kernelspec": {
   "display_name": "Python 3 (ipykernel)",
   "language": "python",
   "name": "python3"
  },
  "language_info": {
   "codemirror_mode": {
    "name": "ipython",
    "version": 3
   },
   "file_extension": ".py",
   "mimetype": "text/x-python",
   "name": "python",
   "nbconvert_exporter": "python",
   "pygments_lexer": "ipython3",
   "version": "3.8.19"
  }
 },
 "nbformat": 4,
 "nbformat_minor": 5
}
