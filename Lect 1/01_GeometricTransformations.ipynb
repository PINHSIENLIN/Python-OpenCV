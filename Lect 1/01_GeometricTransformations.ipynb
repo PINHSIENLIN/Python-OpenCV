{
 "cells": [
  {
   "cell_type": "markdown",
   "id": "ae7c4c00-56f8-4794-998d-1f6a1f2b8dcf",
   "metadata": {},
   "source": [
    "# 數位影像幾何轉換\n",
    "> Prompt: 請幫我用繁體中文撰寫markdown介紹程式碼[貼上程式碼]\n",
    "\n",
    "OpenCV 主要工具<br>\n",
    "1. flip() 執行影像翻轉，可以垂直、水平或兩者同時翻轉<br>\n",
    "2. resize() 調整影像尺寸，擴大或縮小影像<br>\n",
    "3. warpAffine() 進行影像的仿射轉換，包括翻轉、旋轉和縮放<br>\n",
    "4. getRotationMatrix2D() 獲取影像旋轉的轉換矩陣，可以實現影像繞任意點旋轉<br>\n",
    "5. getAffineTransform(src, dst, mapMatrix) 計算從原點到目標點的仿射轉換矩陣<br>\n",
    "6. getPerspectiveTransform() 根據四個點的對應關係計算透視轉換矩陣<br>\n",
    "7. warpPerspective() 實施透視轉換，將影像透視到一個新的視角<br>\n",
    "8. 其他"
   ]
  },
  {
   "cell_type": "code",
   "execution_count": null,
   "id": "0aacf938-1e05-4b5d-a56b-d95c768f0d67",
   "metadata": {},
   "outputs": [],
   "source": [
    "from matplotlib import pyplot as plt\n",
    "import numpy as np\n",
    "import cv2"
   ]
  },
  {
   "cell_type": "markdown",
   "id": "51861bb6-8ce0-4f99-8422-b445969d7250",
   "metadata": {},
   "source": [
    "# 1. 使用 `flip()` 進行圖片翻轉操作"
   ]
  },
  {
   "cell_type": "code",
   "execution_count": null,
   "id": "f1ed8b0e-25bd-4cc8-aaef-3f37b125679d",
   "metadata": {},
   "outputs": [],
   "source": [
    "image = cv2.imread(\"data/AI.jpg\")\n",
    "# Flipped Horizontally 水平翻轉\n",
    "h_flip = cv2.flip(image, 1)\n",
    "# Flipped Vertically 垂直翻轉\n",
    "v_flip = cv2.flip(image, 0)\n",
    "# Flipped Horizontally & Vertically 水平垂直翻轉\n",
    "hv_flip = cv2.flip(image, -1)\n",
    "\n",
    "plt.figure(figsize=(8,8))\n",
    "\n",
    "plt.subplot(221)\n",
    "# ::-1 indicates that we're selecting all the color channels of the image (since it's likely a 3-dimensional array representing an image), \n",
    "#and we're reversing the order of the channels. \n",
    "#This operation typically reverses the order of color channels from BGR (Blue, Green, Red) to RGB (Red, Green, Blue) or vice versa\n",
    "plt.imshow(image[:,:,::-1])\n",
    "plt.title('original')\n",
    "\n",
    "plt.subplot(222)\n",
    "plt.imshow(h_flip[:,:,::-1])\n",
    "plt.title('horizontal flip')\n",
    "\n",
    "plt.subplot(223)\n",
    "plt.imshow(v_flip[:,:,::-1])\n",
    "plt.title(' vertical flip')\n",
    "\n",
    "plt.subplot(224)\n",
    "plt.imshow(hv_flip[:,:,::-1])\n",
    "plt.title('h_v flip')\n",
    "# 調整子圖間距\n",
    "# plt.subplots_adjust(wspace=0.5, hspace=0.1)\n",
    "plt.subplots_adjust(top = 0.8, bottom = 0.08, left = 0.10, right = 0.95, hspace = 0, wspace = 0.35)\n",
    "# plt.tight_layout()\n",
    "plt.show()\n"
   ]
  },
  {
   "cell_type": "markdown",
   "id": "04e631d0-677e-4f0c-afa3-325c6edf1944",
   "metadata": {},
   "source": [
    "### AI導師-程式碼解析\n",
    "\n",
    "- **圖片讀取**:\n",
    "  使用 `cv2.imread(\"data/AI.jpg\")` 讀取位於指定路徑的圖片。\n",
    "\n",
    "- **圖片翻轉**:\n",
    "  - **水平翻轉** (`h_flip`): 設置 `cv2.flip` 的第二個參數為 1。\n",
    "  - **垂直翻轉** (`v_flip`): 設置 `cv2.flip` 的第二個參數為 0。\n",
    "  - **水平垂直翻轉** (`hv_flip`): 設置 `cv2.flip` 的第二個參數為 -1。\n",
    "\n",
    "- **顯示圖片**:\n",
    "  使用 `matplotlib` 的 `pyplot` 模塊來展示原始圖片及三種翻轉的圖片。<br>\n",
    "  每張圖片都在一個子圖中顯示，並有對應的標題。\n",
    "\n",
    "##### 繪圖設定\n",
    "\n",
    "- 使用 `plt.subplots_adjust` 調整子圖之間的間隔，使得顯示更加清晰美觀。\n",
    "\n",
    "##### 執行結果\n",
    "\n",
    "執行這段程式碼後，會在一個 2x2 的圖表中顯示四張圖片：原始圖片、水平翻轉的圖片、垂直翻轉的圖片以及同時水平垂直翻轉的圖片。這樣可以直觀地比較圖片翻轉前後的差異。"
   ]
  },
  {
   "cell_type": "markdown",
   "id": "ee22a4ed-eb2a-4127-8c00-a178efb3076b",
   "metadata": {},
   "source": [
    "# 2. 使用 OpenCV 調整圖片尺寸\n",
    "##### 使用 `cv2.resize()` 函數\n",
    "* 方法一：直接指定放大比例\n",
    "直接通過 fx 和 fy 參數指定水平方向和垂直方向將圖片放大 1.5 倍\n",
    "\n",
    "* 方法二：指定目標尺寸\n",
    "直接指定目標圖片的尺寸<br>首先獲取原始圖片的高度和寬度，然後將這些值乘以 2，從而達到放大圖片的效果"
   ]
  },
  {
   "cell_type": "code",
   "execution_count": null,
   "id": "29c86bd3-7b91-4994-91d9-ed3afbd213be",
   "metadata": {},
   "outputs": [],
   "source": [
    "# 防呆機制設計\n",
    "import sys\n",
    "img_path = \"./data/img.jpg\"\n",
    "img = cv2.imread(img_path,cv2.IMREAD_GRAYSCALE)\n",
    "if img is None:\n",
    "    #print(\"Error\")\n",
    "    sys.exit(\"無法讀取影像...\")\n",
    "#print('繼續')"
   ]
  },
  {
   "cell_type": "code",
   "execution_count": null,
   "id": "58be948e-75c8-44db-98a2-0a3a0e44e6dd",
   "metadata": {},
   "outputs": [],
   "source": [
    "img = cv2.imread(img_path, cv2.IMREAD_GRAYSCALE)\n",
    "#影像放大\n",
    "#方法1\n",
    "res = cv2.resize(img, None, fx = 1.5, fy = 1.5, interpolation = cv2.INTER_CUBIC)\n",
    "\n",
    "#方法2\n",
    "height, width = img.shape[:2]\n",
    "res2 = cv2.resize(img, (2*width, 2*height), interpolation = cv2.INTER_CUBIC)\n",
    "\n",
    "#顯示多張影像\n",
    "cv2.imshow('res', res)\n",
    "cv2.imshow('res2', res2)\n",
    "cv2.waitKey(0)\n",
    "cv2.destroyAllWindows()\n",
    "  "
   ]
  },
  {
   "cell_type": "markdown",
   "id": "4612525c-477b-4e22-99f5-4e41aeff214b",
   "metadata": {},
   "source": [
    "# 3. 使用 `warpAffine()` 進行影像仿射轉換操作\n",
    "函數cv2.warpAffine()接受三個參數，需要圖像、變換矩陣、變換後的大小\n",
    "\n",
    "\n",
    "* 方法三：使用 OpenCV 進行圖像的仿射變換\n",
    "    * 創建仿射轉換矩陣<br>\n",
    "定義一個仿射變換矩陣 `A1`，用於將圖像縮小到原來的一半<br>\n",
    "這個矩陣指定了在 `x` 和 `y` 方向上的縮放比例都為 `0.5`，不進行平移\n",
    "    * 進行仿射轉換<br>\n",
    "使用 `cv2.warpAffine()` 函數將創建的仿射矩陣應用到圖像 img 上，得到縮小後的圖像 d1<br>\n",
    "函數中設置 `borderValue=125`，定義了圖像邊界以外區域的填充值"
   ]
  },
  {
   "cell_type": "code",
   "execution_count": 25,
   "id": "5a679c23-7935-42be-b7f0-d48c1e0870b1",
   "metadata": {},
   "outputs": [
    {
     "name": "stdout",
     "output_type": "stream",
     "text": [
      "561 417\n"
     ]
    }
   ],
   "source": [
    "#方法3\n",
    "h,w = img.shape[:2]\n",
    "print(h,w)\n",
    "#仿射變換矩陣，縮小兩倍\n",
    "#仿射函數cv2.warpAffine()接受三個參數，需要圖像、變換矩陣、變換後的大小\n",
    "A1 = np.array([[0.5,0,0],[0,0.5,0]],np.float32)\n",
    "d1 = cv2.warpAffine(img,A1,(w,h),borderValue = 125)\n",
    "\n",
    "cv2.imshow(\"image\",img)\n",
    "cv2.imshow(\"d1\",d1)\n",
    "cv2.waitKey(0)\n",
    "cv2.destroyAllWindows()"
   ]
  },
  {
   "cell_type": "code",
   "execution_count": null,
   "id": "9c10c586-15ce-4a70-b4b8-0d572e8cf696",
   "metadata": {},
   "outputs": [],
   "source": [
    "import numpy as np\n",
    "import cv2\n",
    "\n",
    "image = cv2.imread(\"./data/img.jpg\",cv2.IMREAD_GRAYSCALE)\n",
    "\n",
    "#原圖的高寬\n",
    "h,w = image.shape[:2]\n",
    "\n",
    "#仿射變換矩陣，縮小兩倍\n",
    "#仿射函數cv2.warpAffine()接受三個參數，需要圖像、變換矩陣、變換後的大小\n",
    "A1 = np.array([[0.5,0,0],[0,0.5,0]],np.float32)\n",
    "d1 = cv2.warpAffine(image,A1,(w,h),borderValue=125)\n",
    "\n",
    "#先縮小兩倍，再平移\n",
    "A2 = np.array([[0.5,0,w/4],[0,0.5,h/4]],np.float32)\n",
    "d2 = cv2.warpAffine(d1,A2,(w,h),borderValue=255)\n",
    "\n",
    "cv2.imshow(\"image\",image)\n",
    "cv2.imshow(\"d1\",d1)\n",
    "cv2.imshow(\"d2\",d2)\n",
    "#cv2.imwrite(\"d2.jpg\",d2) \n",
    "cv2.waitKey(0)\n",
    "cv2.destroyAllWindows()"
   ]
  },
  {
   "cell_type": "markdown",
   "id": "6905d40f-d6ce-406e-b168-9729b68458a5",
   "metadata": {},
   "source": [
    "# 4. 使用 `getRotationMatrix2D()` 函數來創建圖像旋轉的變換矩陣\n",
    "##### 函數說明\n",
    "`cv2.getRotationMatrix2D((rx,ry),θ,scale)` 函數用於生成二維圖像的旋轉矩陣，其參數如下：\n",
    "\n",
    "- **中心點 (`center`)**: 一個元組，表示旋轉的中心點位置。通常設為圖像中心。\n",
    "- **旋轉角度 (`angle`)**: 表示以逆時針旋轉的角度（度）。這裡是 45 度。\n",
    "- **縮放比例 (`scale`)**: 對圖像進行縮放的倍數。若不進行縮放，設為 1。"
   ]
  },
  {
   "cell_type": "code",
   "execution_count": null,
   "id": "9370166b-5f35-498d-8914-752cf615bf3e",
   "metadata": {},
   "outputs": [],
   "source": [
    "img = cv2.imread(img_path)\n",
    "rows,cols = img.shape[:2] \n",
    "\n",
    "#OpenCV提供了可以任意旋轉縮放與不同中心點的旋轉\n",
    "#getRotationMatrix2D來計算旋轉角度θ,我們要提供個旋轉矩陣\n",
    "# cols-1 和 rows-1 找出影像中心點做旋轉\n",
    "M = cv2.getRotationMatrix2D(((cols-1)/2.0,(rows-1)/2.0),45,1)\n",
    "print(\"M旋轉矩陣:\\n\",M)\n",
    "dst = cv2.warpAffine(img,M,(cols,rows))\n",
    "cv2.imshow('dst',dst)\n",
    "cv2.waitKey(0)\n",
    "cv2.destroyAllWindows()"
   ]
  },
  {
   "cell_type": "markdown",
   "id": "94e161ca-c1be-42ff-9e42-ef47b778bd9b",
   "metadata": {},
   "source": [
    "### 各種旋轉小範例"
   ]
  },
  {
   "cell_type": "code",
   "execution_count": null,
   "id": "9e3ebb65-fbe5-4be1-a56e-d61058499d9a",
   "metadata": {},
   "outputs": [],
   "source": [
    "img = cv2.imread(\"data/AI.jpg\")\n",
    "rows,cols = img.shape[:2]\n",
    "# 定義平移矩陣，需要是numpy的float32類型\n",
    "# x軸平移200，y軸平移100, 2*3矩陣\n",
    "M = np.float32([[1, 0, 200], [0, 1, 100]])\n",
    "# 用仿射變換實現平移\n",
    "img_s = cv2.warpAffine(img, M, (cols, rows), borderValue=(155, 150, 200))\n",
    "\n",
    "# 第一個參數旋轉中心，第二個參數旋轉角度，第三個參數：縮放比例, 生成一2*3的矩陣\n",
    "M = cv2.getRotationMatrix2D((cols/2,rows/2),90,1)\n",
    "M1 = cv2.getRotationMatrix2D((cols/2,rows/2),180,1)\n",
    "M2 = cv2.getRotationMatrix2D((cols/2,rows/2),60,1)\n",
    "print(M)\n",
    "\n",
    "# 第三個參數：變換後的圖像大小\n",
    "img_tra = cv2.warpAffine(img,M,(cols,rows))\n",
    "img_tra1 = cv2.warpAffine(img,M1,(cols,rows))\n",
    "img_tra2 = cv2.warpAffine(img,M2,(cols,rows), borderValue=(155, 100, 155))\n",
    "\n",
    "plt.figure(figsize=(8,8))\n",
    "plt.subplot(221)\n",
    "plt.imshow(img[:,:,::-1])\n",
    "plt.subplot(222)\n",
    "plt.imshow(img_s[:,:,::-1])\n",
    "plt.subplot(223)\n",
    "plt.imshow(img_tra[:,:,::-1])\n",
    "plt.subplot(224)\n",
    "plt.imshow(img_tra2[:,:,::-1])\n",
    "plt.subplots_adjust(top=0.8, bottom=0.08, left=0.10, right=0.95, hspace=0,\n",
    "                    wspace=0.35)\n",
    "plt.show()\n"
   ]
  },
  {
   "attachments": {},
   "cell_type": "markdown",
   "id": "6213d0ad-76e8-48c6-8a38-a145212eb9e9",
   "metadata": {},
   "source": [
    "# 5. 使用 `getAffineTransform()` 自動獲取從原點到目標點的仿射轉換矩陣"
   ]
  },
  {
   "cell_type": "code",
   "execution_count": null,
   "id": "0bde7b88-0907-4c3d-b490-623ca31c9188",
   "metadata": {},
   "outputs": [],
   "source": [
    "img = cv2.imread(\"data/scan.png\")\n",
    "h,w = img.shape[:2]\n",
    "rows,cols = img.shape[:2]\n",
    "\n",
    "#pts1 = np.float32([[50,50],[200,50],[50,200]])\n",
    "#pts2 = np.float32([[10,100],[200,20],[100,250]])\n",
    "\n",
    "pts1 = np.float32([[188,9],[400,120],[45,360]])\n",
    "pts2 = np.float32([[130,50],[380,45],[125,390]])\n",
    "\n",
    "\n",
    "M = cv2.getAffineTransform(pts1,pts2)\n",
    "res = cv2.warpAffine(img,M,(rows,cols))\n",
    "#顯示原圖和投影效果\n",
    "cv2.imshow(\"image\",img)\n",
    "cv2.imshow(\"warpAffine\",res)\n",
    "cv2.waitKey(0)\n",
    "cv2.destroyAllWindows()"
   ]
  },
  {
   "cell_type": "code",
   "execution_count": null,
   "id": "9eef3175-17e5-4fa7-88a2-5734ae7586e8",
   "metadata": {},
   "outputs": [],
   "source": [
    "# 在圖像上標記紅點\n",
    "for point in pts1:\n",
    "    cv2.circle(img, (int(point[0]), int(point[1])), 5, (255, 0, 0), -1)\n",
    "for point in pts2:\n",
    "    #cv2.circle(img, (int(point[0]), int(point[1])), 5, (0, 0, 255), -1)\n",
    "    cv2.circle(res, (int(point[0]), int(point[1])), 5, (0, 0, 255), -1)\n",
    "\n",
    "# 顯示圖像\n",
    "cv2.imshow('Original image with Points', img)\n",
    "cv2.imshow('Result image with Points', res)\n",
    "cv2.waitKey(0)\n",
    "cv2.destroyAllWindows()"
   ]
  },
  {
   "cell_type": "markdown",
   "id": "2c5d4006-a166-4dbf-aded-c4e10c6790c1",
   "metadata": {},
   "source": [
    "# 6. 使用 `getPerspectiveTransform()` <br>根據指定四點對應關係計算透視轉換矩陣"
   ]
  },
  {
   "cell_type": "code",
   "execution_count": null,
   "id": "016f5b48-40ac-41bb-bb55-208261df7fda",
   "metadata": {},
   "outputs": [],
   "source": [
    "img = cv2.imread('data/card.jpg')\n",
    "rows, cols, ch = img.shape\n",
    "print(rows,cols,ch)\n",
    "cv2.imshow(\"Input\",img)\n",
    "cv2.waitKey(0)\n",
    "cv2.destroyAllWindows()"
   ]
  },
  {
   "cell_type": "code",
   "execution_count": null,
   "id": "430715d7-5e9b-4837-b4f6-491d7aa3b5e5",
   "metadata": {},
   "outputs": [],
   "source": [
    "pts1 = np.float32([[170,84],[340,303],[23,168],[94,445]])#座標重新定位實戰\n",
    "pts2 = np.float32([[0,0],[400,0],[0,250],[400,250]])\n",
    "M = cv2.getPerspectiveTransform(pts1,pts2)\n",
    "print(M)"
   ]
  },
  {
   "cell_type": "markdown",
   "id": "d280ac78-ca7a-4205-9a0b-62c52095ec81",
   "metadata": {},
   "source": [
    "# 7. 使用 `warpPerspective()` 進行透視轉換的操作"
   ]
  },
  {
   "cell_type": "code",
   "execution_count": null,
   "id": "a89043cf-0c01-446a-99ef-fe03530a0552",
   "metadata": {},
   "outputs": [],
   "source": [
    "dst = cv2.warpPerspective(img,M,(400,250))\n",
    "cv2.imshow(\"Input\",img)\n",
    "cv2.imshow(\"Output\",dst)\n",
    "cv2.waitKey(0)\n",
    "cv2.destroyAllWindows()"
   ]
  },
  {
   "cell_type": "markdown",
   "id": "4656e0d8-255e-47bc-9c07-395bf804b666",
   "metadata": {},
   "source": [
    "# [ 實作練習 ]\n",
    "![](data/Q_PT.PNG)"
   ]
  },
  {
   "cell_type": "code",
   "execution_count": null,
   "id": "229d6be7-a0f5-40ef-9944-dc995620a2d0",
   "metadata": {},
   "outputs": [],
   "source": [
    "# 實作程式碼撰寫區\n",
    "import cv2\n",
    "img = cv2.imread('data/scan.PNG')\n",
    "\n",
    "cv2.imshow(\"Input\",img)\n",
    "cv2.imshow(\"Result\",res)\n",
    "cv2.waitKey(0)\n",
    "cv2.destroyAllWindows()\n"
   ]
  },
  {
   "cell_type": "markdown",
   "id": "98dabc9c-50b4-43ee-bb49-1963e7f35717",
   "metadata": {},
   "source": [
    "# 8. 其他 - 極座標變換\n",
    "使用 `cv2.linearPolar()` 將輸入圖片從笛卡爾坐標轉換成極座標<br>\n",
    "在極坐標表示中，每個點由半徑（從中心點到該點的距離）和角度（從中心點到該點的角度）來定義<br>\n",
    "##### cv2.linearPolar(src,center)\n",
    "* 輸入圖像 `src`：應為單通道或多通道的圖像\n",
    "* 中心點座標 `center`：一個元組，指定轉換的中心點位置，格式為 (x, y)\n",
    "* 最大半徑 `maxRadius`：中心點到圖像邊緣的最遠距離（半徑），確定極座標轉換涵蓋的範圍\n",
    "* 插值方法 `flags`：轉換的插值方法和其他選項。"
   ]
  },
  {
   "cell_type": "code",
   "execution_count": null,
   "id": "77637492-3e6d-4061-a9cc-ed30d921191e",
   "metadata": {},
   "outputs": [],
   "source": [
    "# 1: 導入必要的庫\n",
    "import cv2\n",
    "import numpy as np\n",
    "import sys\n",
    "\n",
    "# 2: 定義極座標變換函數\n",
    "def polar(I,center,r,theta=(0,360),rstep=1.0,thetastep=360.0/(180*8)):\n",
    "    #得到距離的最小最大範圍 \n",
    "    minr,maxr = r\n",
    "    #角度的最小範圍\n",
    "    mintheta,maxtheta = theta\n",
    "    #輸出圖像的高，寬\n",
    "    H = int((maxr-minr)/rstep)+1\n",
    "    W =  int((maxtheta-mintheta)/thetastep)+1\n",
    "    O = np.zeros((H,W),I.dtype)\n",
    "    #極座標變換\n",
    "    r = np.linspace(minr,maxr,H)\n",
    "    r = np.tile(r,(W,1))\n",
    "    r = np.transpose(r)\n",
    "    theta = np.linspace(mintheta,maxtheta,W)\n",
    "    theta = np.tile(theta,(H,1))\n",
    "    x,y=cv2.polarToCart(r,theta,angleInDegrees=True)\n",
    "    #最近鄰插值\n",
    "    for i in range(H):\n",
    "        for j in range(W):\n",
    "            px = int(round(x[i][j])+cx)\n",
    "            py = int(round(y[i][j])+cy)\n",
    "            if(px>w-1 or py >h-1):\n",
    "                O[i][j] = 125#灰色\n",
    "            else:\n",
    "                O[i][j] = I[py][px]\n",
    "    return O\n",
    "\n",
    "# 3: 加載圖像和設定參數\n",
    "I = cv2.imread(\"data/blood_vessels.png\",cv2.IMREAD_GRAYSCALE)\n",
    "h,w = I.shape[:2]\n",
    "print(w,h)\n",
    "cx,cy = w/2.0,h/2.0\n",
    "print(cx,cy)\n",
    "cv2.circle(I,(int(cx),int(cy)),10,(255,0,0),-1)\n",
    "\n",
    "# 4: 應用極座標變換並顯示結果\n",
    "O = polar(I, (cx, cy), (100, 150))\n",
    "O = cv2.flip(O, 0)\n",
    "cv2.imshow(\"Original Image\", I)\n",
    "cv2.imshow(\"Polar Image\", O)\n",
    "cv2.waitKey(0)\n",
    "cv2.destroyAllWindows()"
   ]
  }
 ],
 "metadata": {
  "kernelspec": {
   "display_name": "Python 3 (ipykernel)",
   "language": "python",
   "name": "python3"
  },
  "language_info": {
   "codemirror_mode": {
    "name": "ipython",
    "version": 3
   },
   "file_extension": ".py",
   "mimetype": "text/x-python",
   "name": "python",
   "nbconvert_exporter": "python",
   "pygments_lexer": "ipython3",
   "version": "3.12.2"
  }
 },
 "nbformat": 4,
 "nbformat_minor": 5
}
