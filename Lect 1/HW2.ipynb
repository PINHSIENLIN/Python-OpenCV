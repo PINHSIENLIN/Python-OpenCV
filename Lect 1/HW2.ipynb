{
 "cells": [
  {
   "cell_type": "code",
   "execution_count": null,
   "metadata": {},
   "outputs": [],
   "source": [
    "import cv2\n",
    "import numpy as np\n",
    "from matplotlib import pyplot as plt\n",
    "import os"
   ]
  },
  {
   "cell_type": "code",
   "execution_count": null,
   "metadata": {},
   "outputs": [],
   "source": [
    "cap = cv2.VideoCapture(\"output_ex.avi\")\n",
    "\n",
    "count = 0\n",
    "\n",
    "while True:\n",
    "    success, image = cap.read()\n",
    "\n",
    "    if image is not None:\n",
    "        img_convert = cv2.cvtColor(image, cv2.COLOR_BGR2RGB)\n",
    "        img_green_channel = img_convert[:,:,1]\n",
    "        # plt.axis(\"off\")\n",
    "        # plt.imshow(img_green_channel)\n",
    "        # plt.show()\n",
    "        output = cv2.cvtColor(img_green_channel,cv2.COLOR_RGB2BGR)\n",
    "        cv2.imwrite(\"\\\\frame%d.jpg\" % count, output)\n",
    "    else:\n",
    "        break\n",
    "\n",
    "    if cv2.waitKey(10) == 27:\n",
    "        break\n",
    "\n",
    "    count +=1\n"
   ]
  }
 ],
 "metadata": {
  "kernelspec": {
   "display_name": "Python 3",
   "language": "python",
   "name": "python3"
  },
  "language_info": {
   "codemirror_mode": {
    "name": "ipython",
    "version": 3
   },
   "file_extension": ".py",
   "mimetype": "text/x-python",
   "name": "python",
   "nbconvert_exporter": "python",
   "pygments_lexer": "ipython3",
   "version": "3.12.2"
  }
 },
 "nbformat": 4,
 "nbformat_minor": 2
}
